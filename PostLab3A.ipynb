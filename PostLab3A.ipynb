{
  "nbformat": 4,
  "nbformat_minor": 0,
  "metadata": {
    "colab": {
      "name": "Untitled1.ipynb",
      "provenance": [],
      "authorship_tag": "ABX9TyPWQJRSPFSgM+jGZ+FeTqKR",
      "include_colab_link": true
    },
    "kernelspec": {
      "name": "python3",
      "display_name": "Python 3"
    },
    "language_info": {
      "name": "python"
    }
  },
  "cells": [
    {
      "cell_type": "markdown",
      "metadata": {
        "id": "view-in-github",
        "colab_type": "text"
      },
      "source": [
        "<a href=\"https://colab.research.google.com/github/codegithubka/Physics-4AL-Gooogle-Collab-Files/blob/main/PostLab3A.ipynb\" target=\"_parent\"><img src=\"https://colab.research.google.com/assets/colab-badge.svg\" alt=\"Open In Colab\"/></a>"
      ]
    },
    {
      "cell_type": "code",
      "execution_count": null,
      "metadata": {
        "colab": {
          "base_uri": "https://localhost:8080/"
        },
        "id": "yFdI6mlK_-YY",
        "outputId": "fbb30faf-6cd3-4d63-e4f7-a98ffaf0f01b"
      },
      "outputs": [
        {
          "output_type": "stream",
          "name": "stdout",
          "text": [
            "Drive already mounted at drive; to attempt to forcibly remount, call drive.mount(\"drive\", force_remount=True).\n"
          ]
        }
      ],
      "source": [
        "import numpy as np\n",
        "import matplotlib.pyplot as plt\n",
        "\n",
        "from google.colab import drive\n",
        "drive.mount('drive')"
      ]
    },
    {
      "cell_type": "markdown",
      "source": [
        "Plotting the displacement vs Force"
      ],
      "metadata": {
        "id": "3HtFnumrAaSN"
      }
    },
    {
      "cell_type": "code",
      "source": [
        "force = [0.2*9.8, 0.25*9.8, 0.3*9.8, 0.35*9.8]\n",
        "displacement = [0.065, 0.092, 0.12, 0.146]\n",
        "\n",
        "plt.plot(displacement, force)\n",
        "plt.ylabel(\"Displacement\")\n",
        "plt.xlabel(\"Force\")"
      ],
      "metadata": {
        "colab": {
          "base_uri": "https://localhost:8080/",
          "height": 297
        },
        "id": "sHxWdC70AgbT",
        "outputId": "e7b4fe8d-9b21-4398-d51d-faf624edad2d"
      },
      "execution_count": null,
      "outputs": [
        {
          "output_type": "execute_result",
          "data": {
            "text/plain": [
              "Text(0.5, 0, 'Force')"
            ]
          },
          "metadata": {},
          "execution_count": 12
        },
        {
          "output_type": "display_data",
          "data": {
            "text/plain": [
              "<Figure size 432x288 with 1 Axes>"
            ],
            "image/png": "[encoded data removed]"
          },
          "metadata": {
            "needs_background": "light"
          }
        }
      ]
    },
    {
      "cell_type": "markdown",
      "source": [
        "Determine Spring Constant with Uncertainty"
      ],
      "metadata": {
        "id": "Z9JwnITrAj9-"
      }
    },
    {
      "cell_type": "code",
      "source": [
        "#Let spring constant be k\n",
        "from numpy.lib.nanfunctions import nanprod\n",
        "coeff_linear, cov = np.polyfit(force, displacement,1,cov=True)\n",
        "# The slope of this curve is the velocity pre-collision\n",
        "slope = coeff_linear[0]\n",
        "print(slope)\n",
        "\n",
        "k = 1/slope\n",
        "\n",
        "print(k)\n"
      ],
      "metadata": {
        "colab": {
          "base_uri": "https://localhost:8080/"
        },
        "id": "CEydvzw7AmAz",
        "outputId": "d53df748-fed4-4865-cd63-67578fd4a9cc"
      },
      "execution_count": null,
      "outputs": [
        {
          "output_type": "stream",
          "name": "stdout",
          "text": [
            "0.05530612244897958\n",
            "18.08118081180812\n"
          ]
        }
      ]
    },
    {
      "cell_type": "markdown",
      "source": [
        "Calculate Uncertainty"
      ],
      "metadata": {
        "id": "315jGjpNIUmM"
      }
    },
    {
      "cell_type": "code",
      "source": [
        "delta_k = k*0.001/0.3\n",
        "print(delta_k)\n"
      ],
      "metadata": {
        "colab": {
          "base_uri": "https://localhost:8080/"
        },
        "id": "jjr5rhNKIXc0",
        "outputId": "651f8522-d14b-47e4-ffd9-096bf9fab12e"
      },
      "execution_count": null,
      "outputs": [
        {
          "output_type": "stream",
          "name": "stdout",
          "text": [
            "0.06027060270602708\n"
          ]
        }
      ]
    },
    {
      "cell_type": "markdown",
      "source": [
        ""
      ],
      "metadata": {
        "id": "UbWBwZLaAmQP"
      }
    }
  ]
}