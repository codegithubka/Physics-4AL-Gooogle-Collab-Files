{
  "nbformat": 4,
  "nbformat_minor": 0,
  "metadata": {
    "colab": {
      "name": " Lab 2A in-lab analysis.ipynb",
      "provenance": [],
      "collapsed_sections": [],
      "include_colab_link": true
    },
    "kernelspec": {
      "name": "python3",
      "display_name": "Python 3"
    }
  },
  "cells": [
    {
      "cell_type": "markdown",
      "metadata": {
        "id": "view-in-github",
        "colab_type": "text"
      },
      "source": [
        "<a href=\"https://colab.research.google.com/github/codegithubka/Physics-4AL-Gooogle-Collab-Files/blob/main/Lab_2A_in_lab_analysis.ipynb\" target=\"_parent\"><img src=\"https://colab.research.google.com/assets/colab-badge.svg\" alt=\"Open In Colab\"/></a>"
      ]
    },
    {
      "cell_type": "markdown",
      "source": [
        "# Example"
      ],
      "metadata": {
        "id": "TtUOmvwzpRaf"
      }
    },
    {
      "cell_type": "markdown",
      "source": [
        "In this lab, we will be collecting data, but due to various factors, we will have some extraneous measurements before and after that we'll need to cut out"
      ],
      "metadata": {
        "id": "iqxw32ujpNWp"
      }
    },
    {
      "cell_type": "code",
      "source": [
        "# Run this cell to mount your Google Drive.\n",
        "from google.colab import drive\n",
        "drive.mount('drive')\n",
        "\n",
        "# numpy has a function that helps to read data files so we import it\n",
        "import numpy as np\n",
        "\n",
        "# Read in data using np.loadtxt. It takes in two inputs, the path to the file and a delimiter. The delimiter in this case is ',' since it is a csv file.\n",
        "# We used skiprows = 1 to skip the first row of the csv file which contained the column headers and the units. \n",
        "# Your data will have two columns - elapsed time and ultrasound distance\n",
        "read_in_array = np.loadtxt('/content/drive/My Drive/acceleration_data.csv',skiprows=1,delimiter=',')"
      ],
      "metadata": {
        "colab": {
          "base_uri": "https://localhost:8080/"
        },
        "id": "2a0RZ4ArpMKL",
        "outputId": "3c2b75cd-ee12-49b8-d9b0-9440174ea59b"
      },
      "execution_count": null,
      "outputs": [
        {
          "output_type": "stream",
          "name": "stdout",
          "text": [
            "Drive already mounted at drive; to attempt to forcibly remount, call drive.mount(\"drive\", force_remount=True).\n"
          ]
        }
      ]
    },
    {
      "cell_type": "markdown",
      "source": [
        "Below we separate out the data. For this example, we will not be doing any conversions, but for your reports, you will need to convert these numbers into real units\n"
      ],
      "metadata": {
        "id": "MYiNPfg9puJ-"
      }
    },
    {
      "cell_type": "code",
      "source": [
        "# This dataset has two columns\n",
        "# Take all of the elements in the 0th column to create your x-axis array\n",
        "time = read_in_array[:,0]\n",
        "\n",
        "# We create an array to store the positions\n",
        "\n",
        "position = read_in_array[:,1]\n"
      ],
      "metadata": {
        "id": "xjcbReW0puZk"
      },
      "execution_count": null,
      "outputs": []
    },
    {
      "cell_type": "markdown",
      "source": [
        "Let's look at the raw data."
      ],
      "metadata": {
        "id": "AUhyftdTpufg"
      }
    },
    {
      "cell_type": "code",
      "source": [
        "# Import the module that will help you create a scatter plot\n",
        "import matplotlib.pyplot as plt\n",
        "\n",
        "# Make the scatter plot\n",
        "plt.scatter(time,position,color=\"red\")\n",
        "\n",
        "# Provide a title to the plot\n",
        "plt.title('Position and time')\n",
        "\n",
        "# Label the x axis\n",
        "plt.xlabel('Time (arbitrary units)')\n",
        "\n",
        "# Label the y axis\n",
        "plt.ylabel('Position (arbitrary units)')"
      ],
      "metadata": {
        "colab": {
          "base_uri": "https://localhost:8080/",
          "height": 312
        },
        "id": "-0XgnbgjpulO",
        "outputId": "f096c79a-a994-4eef-9bb0-79519de56051"
      },
      "execution_count": null,
      "outputs": [
        {
          "output_type": "execute_result",
          "data": {
            "text/plain": [
              "Text(0, 0.5, 'Position (arbitrary units)')"
            ]
          },
          "metadata": {},
          "execution_count": 4
        },
        {
          "output_type": "display_data",
          "data": {
            "text/plain": [
              "<Figure size 432x288 with 1 Axes>"
            ],
            "image/png": "[encoded data removed]"
          },
          "metadata": {
            "needs_background": "light"
          }
        }
      ]
    },
    {
      "cell_type": "markdown",
      "source": [
        "There is some obvious noise in the beginning before the object is dropped and some noise after. \n",
        "\n",
        "The limits of the plot prevent us from doing any analysis, so we will index the array, selecting only the first 1000 elements with `array[beginning index:ending index]`. Below, we plot which positions we want to section out."
      ],
      "metadata": {
        "id": "6lxG6O-epuqc"
      }
    },
    {
      "cell_type": "code",
      "source": [
        "# Create a scatter plot\n",
        "plt.scatter(time,position,color=\"red\")\n",
        "\n",
        "\n",
        "# Plot a vertical line where this intersects with our acceleration\n",
        "plt.vlines([600,900], 0, 6000, color = 'green', linewidth = 3, linestyle = '--')\n",
        "\n",
        "# Label the x axis\n",
        "plt.xlabel('Time (arbitrary units)')\n",
        "\n",
        "# Label the y axis\n",
        "plt.ylabel('Position(arbitrary units)')"
      ],
      "metadata": {
        "colab": {
          "base_uri": "https://localhost:8080/",
          "height": 296
        },
        "id": "HE_beuBqpuuy",
        "outputId": "a9a88bab-dde1-4297-b1c5-a265d290009e"
      },
      "execution_count": null,
      "outputs": [
        {
          "output_type": "execute_result",
          "data": {
            "text/plain": [
              "Text(0, 0.5, 'Position(arbitrary units)')"
            ]
          },
          "metadata": {},
          "execution_count": 5
        },
        {
          "output_type": "display_data",
          "data": {
            "text/plain": [
              "<Figure size 432x288 with 1 Axes>"
            ],
            "image/png": "[encoded data removed]"
          },
          "metadata": {
            "needs_background": "light"
          }
        }
      ]
    },
    {
      "cell_type": "markdown",
      "source": [
        "The x axis is in time units, not in index so in order to figure out what indices to put into `array[beginning index:ending index]`, let's plot it vs index number. We do this by only putting the position as the argument for a plt.plot function"
      ],
      "metadata": {
        "id": "UnWBBpt-qIb5"
      }
    },
    {
      "cell_type": "code",
      "source": [
        "# Create a scatter plot with only one argument\n",
        "plt.plot(position,color=\"red\")\n",
        "\n",
        "# Plot a vertical line where this intersects with our acceleration\n",
        "plt.vlines([67,100], 0, 6000, color = 'green', linewidth = 3, linestyle = '--')\n",
        "\n",
        "# Label the x axis\n",
        "plt.xlabel('Array index')\n",
        "\n",
        "# Label the y axis\n",
        "plt.ylabel('Position')"
      ],
      "metadata": {
        "colab": {
          "base_uri": "https://localhost:8080/",
          "height": 296
        },
        "id": "ERDkHwxcqIjQ",
        "outputId": "4e592b10-ed3c-4b4f-ecc2-73996c2f7b28"
      },
      "execution_count": null,
      "outputs": [
        {
          "output_type": "execute_result",
          "data": {
            "text/plain": [
              "Text(0, 0.5, 'Position')"
            ]
          },
          "metadata": {},
          "execution_count": 6
        },
        {
          "output_type": "display_data",
          "data": {
            "text/plain": [
              "<Figure size 432x288 with 1 Axes>"
            ],
            "image/png": "[encoded data removed]"
          },
          "metadata": {
            "needs_background": "light"
          }
        }
      ]
    },
    {
      "cell_type": "markdown",
      "source": [
        "We now see that the x axis gives the index position and we can look at where our desired portion is. Indicated above is the portion of the data when the object is falling, beginning from an array index of 67 and ending at an array index of 100. We can therefore cut out the relevant dataset with:\n",
        "\n",
        "```\n",
        "position_window = position[67:100]\n",
        "time_window = time[67:100]\n",
        "```\n",
        "\n",
        "Note that we have to also index the time array. Plotting the windows below, we see that we have our desired portion of the data"
      ],
      "metadata": {
        "id": "KZTYNgN9qIqA"
      }
    },
    {
      "cell_type": "code",
      "source": [
        "position_window = position[67:100]\n",
        "time_window = time[67:100]\n",
        "\n",
        "plt.scatter(time_window, position_window)\n",
        "\n",
        "\n",
        "# Provide a title to the plot\n",
        "plt.title('Position and time')\n",
        "\n",
        "# Label the x axis\n",
        "plt.xlabel('Time (arbitrary units)')\n",
        "\n",
        "# Label the y axis\n",
        "plt.ylabel('Position (arbitrary units)')"
      ],
      "metadata": {
        "colab": {
          "base_uri": "https://localhost:8080/",
          "height": 312
        },
        "id": "zlg8B4CXqIwE",
        "outputId": "7c01e204-071d-4c68-d092-b976c509e843"
      },
      "execution_count": null,
      "outputs": [
        {
          "output_type": "execute_result",
          "data": {
            "text/plain": [
              "Text(0, 0.5, 'Position (arbitrary units)')"
            ]
          },
          "metadata": {},
          "execution_count": 7
        },
        {
          "output_type": "display_data",
          "data": {
            "text/plain": [
              "<Figure size 432x288 with 1 Axes>"
            ],
            "image/png": "[encoded data removed]"
          },
          "metadata": {
            "needs_background": "light"
          }
        }
      ]
    },
    {
      "cell_type": "markdown",
      "source": [
        "One more thing that we'll want to do is to start our data at time = 0 rather than time = 550. We can do this by subtracting the first element\n",
        "\n",
        "\n",
        "\n",
        "```\n",
        "time_window = time_window - time_window[0]\n",
        "```"
      ],
      "metadata": {
        "id": "5xeYOvvZqI27"
      }
    },
    {
      "cell_type": "code",
      "source": [
        "time_window = time_window - time_window[0]\n",
        "\n",
        "plt.scatter(time_window, position_window)\n",
        "\n",
        "\n",
        "# Provide a title to the plot\n",
        "plt.title('Position and time')\n",
        "\n",
        "# Label the x axis\n",
        "plt.xlabel('Time (arbitrary units)')\n",
        "\n",
        "# Label the y axis\n",
        "plt.ylabel('Position (arbitrary units)')"
      ],
      "metadata": {
        "colab": {
          "base_uri": "https://localhost:8080/",
          "height": 312
        },
        "id": "iT8TBhW2qI90",
        "outputId": "00e49019-f440-4535-ea44-d2e4359aa9ef"
      },
      "execution_count": null,
      "outputs": [
        {
          "output_type": "execute_result",
          "data": {
            "text/plain": [
              "Text(0, 0.5, 'Position (arbitrary units)')"
            ]
          },
          "metadata": {},
          "execution_count": 8
        },
        {
          "output_type": "display_data",
          "data": {
            "text/plain": [
              "<Figure size 432x288 with 1 Axes>"
            ],
            "image/png": "[encoded data removed]"
          },
          "metadata": {
            "needs_background": "light"
          }
        }
      ]
    },
    {
      "cell_type": "markdown",
      "source": [
        "# Work with your own data now"
      ],
      "metadata": {
        "id": "lS2zh9vvpntf"
      }
    },
    {
      "cell_type": "markdown",
      "metadata": {
        "id": "n0V92zrF97OY"
      },
      "source": [
        "Mount your Google drive.\n"
      ]
    },
    {
      "cell_type": "code",
      "metadata": {
        "id": "RyGCwhnr6W9u",
        "outputId": "87b4301f-a8af-4316-c2d1-f591870d3194",
        "colab": {
          "base_uri": "https://localhost:8080/"
        }
      },
      "source": [
        "# Run this cell to mount your Google Drive.\n",
        "from google.colab import drive\n",
        "drive.mount('drive')"
      ],
      "execution_count": 8,
      "outputs": [
        {
          "output_type": "stream",
          "name": "stdout",
          "text": [
            "Drive already mounted at drive; to attempt to forcibly remount, call drive.mount(\"drive\", force_remount=True).\n"
          ]
        }
      ]
    },
    {
      "cell_type": "markdown",
      "metadata": {
        "id": "gt3w3ltv-kxk"
      },
      "source": [
        "The next step is to import the modules and read the file."
      ]
    },
    {
      "cell_type": "code",
      "metadata": {
        "id": "dSK42WaO67Ox"
      },
      "source": [
        "# numpy has a function that helps to read data files so we import it\n",
        "import numpy as np\n",
        "import matplotlib.pyplot as plt\n",
        "# Read in data using np.loadtxt. It takes in two inputs, the path to the file and a delimiter. The delimiter in this case is ';' since it is a csv file.\n",
        "# Your path should be something like \"/content/drive/My Drive/data.csv\" \n",
        "read_in_array = np.loadtxt('/content/drive/MyDrive/3deg.csv',delimiter=';')"
      ],
      "execution_count": 10,
      "outputs": []
    },
    {
      "cell_type": "markdown",
      "metadata": {
        "id": "CtF7iyBpAgrX"
      },
      "source": [
        "This dataset has two columns and multiple rows. You have already seen how to create 1-D arrays from 2-D arrays. "
      ]
    },
    {
      "cell_type": "code",
      "metadata": {
        "id": "U7qyZ1xI8CXg"
      },
      "source": [
        "# This dataset has two columns\n",
        "# The zeroth column is the x axis, and the first column is y axis\n",
        "# Take all of the elements in the 0th column to create your x-axis array\n",
        "time_millis = read_in_array[:,0]\n",
        "# The x_axis data is the elapsed time in milliseconds\n",
        "\n",
        "# Take all of the elements in the 1st column to create your y-axis array\n",
        "dist_cm = read_in_array[:,1]\n",
        "# The y_axis data is the distance in cm."
      ],
      "execution_count": 3,
      "outputs": []
    },
    {
      "cell_type": "markdown",
      "source": [
        "Convert the time from milliseconds to seconds and convert the distance from cm to m."
      ],
      "metadata": {
        "id": "d1QqRe403k8a"
      }
    },
    {
      "cell_type": "code",
      "source": [
        "#Time from ms to s\n",
        "time_s = time_millis/1000\n",
        "\n",
        "#Distance from cm to m\n",
        "dist_m=dist_cm/100"
      ],
      "metadata": {
        "id": "LF8V5SWC3lGU"
      },
      "execution_count": 4,
      "outputs": []
    },
    {
      "cell_type": "markdown",
      "source": [
        "We can plot the data to observe what's going on. "
      ],
      "metadata": {
        "id": "Kaag55K43eac"
      }
    },
    {
      "cell_type": "code",
      "source": [
        "plt.scatter(time_s,dist_m)\n",
        "\n",
        "# Add axes labels\n",
        "plt.xlabel('Time (s)')\n",
        "plt.ylabel('Distance (m)')\n",
        "plt.title('Time vs Distance')\n",
        "\n",
        "\n"
      ],
      "metadata": {
        "id": "BjolsvMg3eij",
        "outputId": "956000e0-74b9-4647-bf7c-468f50d8740b",
        "colab": {
          "base_uri": "https://localhost:8080/",
          "height": 313
        }
      },
      "execution_count": 12,
      "outputs": [
        {
          "output_type": "execute_result",
          "data": {
            "text/plain": [
              "Text(0.5, 1.0, 'Time vs Distance')"
            ]
          },
          "metadata": {},
          "execution_count": 12
        },
        {
          "output_type": "display_data",
          "data": {
            "text/plain": [
              "<Figure size 432x288 with 1 Axes>"
            ],
            "image/png": "[encoded data removed]"
          },
          "metadata": {
            "needs_background": "light"
          }
        }
      ]
    },
    {
      "cell_type": "markdown",
      "metadata": {
        "id": "KbuUG1tABCHH"
      },
      "source": [
        "We can see that the entire dataset is not exhibiting a quadratic behavior like we expect. We can use our knowledge of arrays to isolate the data that matters to us.\n",
        "\n",
        "We can do this by plotting the y-axis data vs the array index and observing the start and end point of the quadratic portion of the graph.\n"
      ]
    },
    {
      "cell_type": "code",
      "metadata": {
        "id": "egT00FI58Vh9",
        "outputId": "c4aa2e99-7d0e-4edf-c688-065260a771d3",
        "colab": {
          "base_uri": "https://localhost:8080/",
          "height": 313
        }
      },
      "source": [
        "# Create a variable that starts from 0 and ends at the size of the array\n",
        "array_index=np.arange(0,len(dist_m))\n",
        "\n",
        "# Plot the distance vs array index\n",
        "plt.scatter(array_index, dist_m)\n",
        "\n",
        "# Add axes labels\n",
        "plt.xlabel('Array Index')\n",
        "plt.ylabel('Distance')\n",
        "plt.title('Array Indices vs Distance')\n",
        "\n",
        "\n",
        "\n"
      ],
      "execution_count": 13,
      "outputs": [
        {
          "output_type": "execute_result",
          "data": {
            "text/plain": [
              "Text(0.5, 1.0, 'Array Indices vs Distance')"
            ]
          },
          "metadata": {},
          "execution_count": 13
        },
        {
          "output_type": "display_data",
          "data": {
            "text/plain": [
              "<Figure size 432x288 with 1 Axes>"
            ],
            "image/png": "[encoded data removed]"
          },
          "metadata": {
            "needs_background": "light"
          }
        }
      ]
    },
    {
      "cell_type": "markdown",
      "metadata": {
        "id": "T3BSOF8e9ijR"
      },
      "source": [
        "From your plot, determine cutoff indices for where the quadratic portion of the graph starts and ends. Now, below, we will plot the cutoffs to make sure that they make sense. "
      ]
    },
    {
      "cell_type": "code",
      "metadata": {
        "id": "PzuA8_YLn0_j",
        "outputId": "75c53fb2-5e02-41b3-a785-c265eabc93ca",
        "colab": {
          "base_uri": "https://localhost:8080/",
          "height": 347
        }
      },
      "source": [
        "lower_index = 30\n",
        "lower_time_limit = time_millis[lower_index]\n",
        "print('The lower time cutoff is ' + str(lower_time_limit) + 's')\n",
        "\n",
        "\n",
        "upper_index = 77\n",
        "upper_time_limit = time_millis[upper_index]\n",
        "print('The upper time cutoff is ' + str(upper_time_limit) + 's')\n",
        "\n",
        "# Create new arrays for the time window and distance window that we care about\n",
        "time_window = time_s[lower_index:upper_index]\n",
        "dist_window = dist_m[lower_index:upper_index]\n",
        "\n",
        "plt.plot(time_window, dist_window)\n",
        "\n",
        "# Add axes labels\n",
        "plt.xlabel('Time (seconds)')\n",
        "plt.ylabel('Distance (m)')\n",
        "plt.title('Time vs Distance')\n",
        "\n"
      ],
      "execution_count": 14,
      "outputs": [
        {
          "output_type": "stream",
          "name": "stdout",
          "text": [
            "The lower time cutoff is 89048.0s\n",
            "The upper time cutoff is 90424.0s\n"
          ]
        },
        {
          "output_type": "execute_result",
          "data": {
            "text/plain": [
              "Text(0.5, 1.0, 'Time vs Distance')"
            ]
          },
          "metadata": {},
          "execution_count": 14
        },
        {
          "output_type": "display_data",
          "data": {
            "text/plain": [
              "<Figure size 432x288 with 1 Axes>"
            ],
            "image/png": "[encoded data removed]"
          },
          "metadata": {
            "needs_background": "light"
          }
        }
      ]
    },
    {
      "cell_type": "markdown",
      "metadata": {
        "id": "EAnIeTS3n1jk"
      },
      "source": [
        "Does the above plot look like a parabola? Adjust the indices until you isolate the portion of the plot that you are happy with."
      ]
    },
    {
      "cell_type": "code",
      "metadata": {
        "id": "ujYIF9MAqQKx",
        "outputId": "69478f9d-2c7a-4d89-d031-5a70b76ada77",
        "colab": {
          "base_uri": "https://localhost:8080/",
          "height": 313
        }
      },
      "source": [
        "time_window = time_s[lower_index:upper_index]\n",
        "dist_window = dist_m[lower_index:upper_index]\n",
        "\n",
        "plt.plot(time_window, dist_window)\n",
        "\n",
        "# Add axes labels\n",
        "plt.xlabel('Time (seconds)')\n",
        "plt.ylabel('Distance (m)')\n",
        "plt.title('Time vs Distance')"
      ],
      "execution_count": 15,
      "outputs": [
        {
          "output_type": "execute_result",
          "data": {
            "text/plain": [
              "Text(0.5, 1.0, 'Time vs Distance')"
            ]
          },
          "metadata": {},
          "execution_count": 15
        },
        {
          "output_type": "display_data",
          "data": {
            "text/plain": [
              "<Figure size 432x288 with 1 Axes>"
            ],
            "image/png": "[encoded data removed]"
          },
          "metadata": {
            "needs_background": "light"
          }
        }
      ]
    },
    {
      "cell_type": "markdown",
      "metadata": {
        "id": "WGBk_Lfsqiee"
      },
      "source": [
        "Finally, fit and plot a curve using a polyfit order 2 polynomial. This is mostly coded below. (Find the associated uncertainties)"
      ]
    },
    {
      "cell_type": "code",
      "metadata": {
        "id": "IqIH8x6hqqjG",
        "outputId": "2d7e9399-05df-4a9e-b2f8-876e01e33328",
        "colab": {
          "base_uri": "https://localhost:8080/",
          "height": 313
        }
      },
      "source": [
        "coeff_quad = np.polyfit(time_window, dist_window, 2)\n",
        "y_fit=coeff_quad[0]*time_window**2+coeff_quad[1]*time_window+coeff_quad[2]\n",
        "\n",
        "plt.plot(time_window,y_fit, label = 'Model')\n",
        "plt.scatter(time_window, dist_window, label = 'Data')\n",
        "plt.legend()\n",
        "\n",
        "# Your x and y axes labels here\n",
        "plt.xlabel('Time (seconds)')\n",
        "plt.ylabel('Distance (m)')\n",
        "\n",
        "#Title \n",
        "plt.title('Time vs Distance')\n",
        "\n"
      ],
      "execution_count": 16,
      "outputs": [
        {
          "output_type": "execute_result",
          "data": {
            "text/plain": [
              "Text(0.5, 1.0, 'Time vs Distance')"
            ]
          },
          "metadata": {},
          "execution_count": 16
        },
        {
          "output_type": "display_data",
          "data": {
            "text/plain": [
              "<Figure size 432x288 with 1 Axes>"
            ],
            "image/png": "[encoded data removed]"
          },
          "metadata": {
            "needs_background": "light"
          }
        }
      ]
    },
    {
      "cell_type": "markdown",
      "source": [
        "We can find the associated error in the coefficient of the 2nd degree term with the covariance matrix."
      ],
      "metadata": {
        "id": "AiARByZS6seh"
      }
    },
    {
      "cell_type": "code",
      "source": [
        "coeff_quad, cov = np.polyfit(time_window, dist_window, 2, cov=True)\n",
        "\n",
        "# Error in quadratic coefficient\n",
        "quad_err = np.sqrt(cov[0,0])\n",
        "\n"
      ],
      "metadata": {
        "id": "TGrEIm226skg"
      },
      "execution_count": 19,
      "outputs": []
    },
    {
      "cell_type": "markdown",
      "metadata": {
        "id": "YLTGQBoVsyGg"
      },
      "source": [
        "We can extract the angle of tilt from the value of coeff_quad[0]"
      ]
    },
    {
      "cell_type": "code",
      "source": [
        "# Angle of tilt\n",
        "\n",
        "# np.arcsin() finds sin inverse and returns the value in radians\n",
        "angle_rad = np.arcsin(2*coeff_quad[0]/9.8)\n",
        "\n",
        "# Convert the angle to degrees\n",
        "angle_deg = angle_rad*180/np.pi\n",
        "\n",
        "print(angle_deg)\n"
      ],
      "metadata": {
        "id": "DCEOFvzG7PLk",
        "outputId": "53f1688f-8944-4b3d-be93-540fcf52e20d",
        "colab": {
          "base_uri": "https://localhost:8080/"
        }
      },
      "execution_count": 17,
      "outputs": [
        {
          "output_type": "stream",
          "name": "stdout",
          "text": [
            "-2.731109345121729\n"
          ]
        }
      ]
    },
    {
      "cell_type": "markdown",
      "source": [
        "We can also find the uncertainty in the angle. You can refer to the slides for the derivation."
      ],
      "metadata": {
        "id": "pq_XoisB7tIN"
      }
    },
    {
      "cell_type": "code",
      "source": [
        "# Error in angle\n",
        "a = coeff_quad[0]\n",
        "\n",
        "# Recall quad_err is the error in \"a\"\n",
        "# The formula is taken from the slides of lab 2A\n",
        "angle_err_rad = (2/9.8)*(quad_err)/(np.sqrt(1-(2*a/9.8)**2))\n",
        "\n",
        "#Convert to degrees\n",
        "angle_err_deg = angle_err_rad*180/np.pi\n",
        "\n",
        "print(angle_err_deg)\n"
      ],
      "metadata": {
        "id": "8Uml9v5LQUUN",
        "outputId": "69c485bc-e547-4739-e850-c7040824fd0b",
        "colab": {
          "base_uri": "https://localhost:8080/"
        }
      },
      "execution_count": 20,
      "outputs": [
        {
          "output_type": "stream",
          "name": "stdout",
          "text": [
            "0.041059296409970955\n"
          ]
        }
      ]
    }
  ]
}