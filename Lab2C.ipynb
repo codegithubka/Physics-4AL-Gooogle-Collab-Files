{
  "nbformat": 4,
  "nbformat_minor": 0,
  "metadata": {
    "colab": {
      "name": "Lab2C.ipynb",
      "provenance": [],
      "collapsed_sections": [],
      "include_colab_link": true
    },
    "kernelspec": {
      "name": "python3",
      "display_name": "Python 3"
    }
  },
  "cells": [
    {
      "cell_type": "markdown",
      "metadata": {
        "id": "view-in-github",
        "colab_type": "text"
      },
      "source": [
        "<a href=\"https://colab.research.google.com/github/codegithubka/Physics-4AL-Gooogle-Collab-Files/blob/main/Lab2C.ipynb\" target=\"_parent\"><img src=\"https://colab.research.google.com/assets/colab-badge.svg\" alt=\"Open In Colab\"/></a>"
      ]
    },
    {
      "cell_type": "markdown",
      "metadata": {
        "id": "t1p_7KZh4np7"
      },
      "source": [
        "Load in the required libraries."
      ]
    },
    {
      "cell_type": "code",
      "metadata": {
        "id": "IOtXS-ilzkPj"
      },
      "source": [
        "import numpy as np\n",
        "import matplotlib.pyplot as plt"
      ],
      "execution_count": null,
      "outputs": []
    },
    {
      "cell_type": "code",
      "source": [
        "# Run this cell to mount your Google Drive.\n",
        "from google.colab import drive\n",
        "drive.mount('drive')"
      ],
      "metadata": {
        "id": "PHyBGacDq0K7"
      },
      "execution_count": null,
      "outputs": []
    },
    {
      "cell_type": "markdown",
      "metadata": {
        "id": "6ne26Nvm5BiS"
      },
      "source": [
        "Load in the data files. You have two files, one for mass $m_1$ and the other for mass $m_2$. Load the files and use ; as the delimiter."
      ]
    },
    {
      "cell_type": "code",
      "metadata": {
        "id": "w13AuP9X0WER"
      },
      "source": [
        "# read_in_array_m1 = np.loadtxt('filename',delimiter=’;’)\n",
        "read_in_array_m1 = np.loadtxt('/content/drive/MyDrive/Phsysics4ALCollisions/M1Collisions/elastic_1_take_2_Sheet1.csv', delimiter=';')\n",
        "\n",
        "#read_in_array_m2 = np.loadtxt('',delimiter=’;’)\n",
        "read_in_array_m2 = np.loadtxt('/content/drive/MyDrive/Phsysics4ALCollisions/M2Collisions/elastic1.csv', delimiter= ';')\n"
      ],
      "execution_count": 6,
      "outputs": []
    },
    {
      "cell_type": "markdown",
      "metadata": {
        "id": "bJQYAYd-5HxE"
      },
      "source": [
        "Extract the time and the position for both the files."
      ]
    },
    {
      "cell_type": "code",
      "metadata": {
        "id": "wvv49Xo60Z4c"
      },
      "source": [
        "# time_m1 = read_in_array_m1[:,?]\n",
        "time_m1 = read_in_array_m1[:,0]\n",
        "\n",
        "# time_m2 = read_in_array_m2[:,?]\n",
        "time_m2 = read_in_array_m2[:,0]\n",
        "\n",
        "# position_m1 = ??\n",
        "position_m1 = read_in_array_m1[:,1]\n",
        "\n",
        "# position_m2 = ??\n",
        "position_m2 = read_in_array_m2[:,1]"
      ],
      "execution_count": 23,
      "outputs": []
    },
    {
      "cell_type": "markdown",
      "source": [
        "Plot the position as a function of time for mass $m_1$."
      ],
      "metadata": {
        "id": "N53-hljKOPJ_"
      }
    },
    {
      "cell_type": "code",
      "source": [
        "# Plot the position of m1 vs time\n",
        "plt.plot(time_m1, position_m1)\n",
        "\n",
        "# Use axes labels\n",
        "plt.xlabel('Time')\n",
        "plt.ylabel('Position')\n"
      ],
      "metadata": {
        "id": "6ipitpMWOOiR",
        "outputId": "2896f5c8-57f0-4d69-8580-3b5c2f4051b9",
        "colab": {
          "base_uri": "https://localhost:8080/",
          "height": 297
        }
      },
      "execution_count": 14,
      "outputs": [
        {
          "output_type": "execute_result",
          "data": {
            "text/plain": [
              "Text(0, 0.5, 'Position')"
            ]
          },
          "metadata": {},
          "execution_count": 14
        },
        {
          "output_type": "display_data",
          "data": {
            "text/plain": [
              "<Figure size 432x288 with 1 Axes>"
            ],
            "image/png": "[encoded data removed]"
          },
          "metadata": {
            "needs_background": "light"
          }
        }
      ]
    },
    {
      "cell_type": "markdown",
      "source": [
        "Now we can plot the position of $m_1$ vs the array index to find the pre-collision and post-collision points of interest for both the masses."
      ],
      "metadata": {
        "id": "9eqQkjAVOjXT"
      }
    },
    {
      "cell_type": "code",
      "metadata": {
        "id": "1iD7o9t53maB",
        "outputId": "bab1c14b-c620-4471-b7d9-ad3f20d56d8e",
        "colab": {
          "base_uri": "https://localhost:8080/",
          "height": 313
        }
      },
      "source": [
        "# Plot the position of m1 vs array index\n",
        "array_index=np.arange(0,len(position_m1))\n",
        "# Use plt.plot(position_m1)\n",
        "plt.plot(array_index, position_m1)\n",
        "\n",
        "# Use axes labels\n",
        "plt.xlabel('Array Index')\n",
        "plt.ylabel('Position M1')\n",
        "plt.title('Position of m1 vs array index')\n"
      ],
      "execution_count": 17,
      "outputs": [
        {
          "output_type": "execute_result",
          "data": {
            "text/plain": [
              "Text(0.5, 1.0, 'Position of m1 vs array index')"
            ]
          },
          "metadata": {},
          "execution_count": 17
        },
        {
          "output_type": "display_data",
          "data": {
            "text/plain": [
              "<Figure size 432x288 with 1 Axes>"
            ],
            "image/png": "[encoded data removed]"
          },
          "metadata": {
            "needs_background": "light"
          }
        }
      ]
    },
    {
      "cell_type": "markdown",
      "source": [
        "This way we can get the points pre-collision and post-collision. Let's isolate the position and time array for pre and post collision now that we know the array index at the point of collision.\n",
        "\n",
        "You may have to ignore a few points just before and just after the collision."
      ],
      "metadata": {
        "id": "wbBgOKACu1v4"
      }
    },
    {
      "cell_type": "code",
      "source": [
        "# Replace the ? with the start and end index of the pre-collision data\n",
        "# pos_m1_pre = position_m1[?:?]\n",
        "pos_m1_pre = position_m1[20:50]\n",
        "\n",
        "# The indices for the time are going to be same as that of the position\n",
        "# time_m1_pre = time_m1[?:?] \n",
        "time_m1_pre = time_m1[20:50]\n",
        "\n",
        "# Replace the ? with the start and end index of the post-collision data\n",
        "# pos_m1_post = position_m1[?:?]\n",
        "pos_m1_post = position_m1[50:100]\n",
        "\n",
        "# The indices for the time are going to be same as that of the position\n",
        "# time_m1_post = time_m1[?:?] \\\n",
        "time_m1_post = time_m1[50:100] \n"
      ],
      "metadata": {
        "id": "YKCsjv9nu15U"
      },
      "execution_count": 20,
      "outputs": []
    },
    {
      "cell_type": "markdown",
      "source": [
        "Use np.polyfit() of degree 1 to find the velocity pre and post collision. Find the error in this velocity from the covariance matrix."
      ],
      "metadata": {
        "id": "CMuhrlbvv3p0"
      }
    },
    {
      "cell_type": "code",
      "source": [
        "from numpy.lib.nanfunctions import nanprod\n",
        "coeff_linear_pre_m1, cov_pre_m1 = np.polyfit(time_m1_pre, pos_m1_pre,1,cov=True)\n",
        "# The slope of this curve is the velocity pre-collision\n",
        "u1 = coeff_linear_pre_m1[0]\n",
        "\n",
        "\n",
        "#The error in velocity is found from cov_pre\n",
        "delta_u1 = np.sqrt(cov_pre_m1[0,0])\n",
        "\n",
        "# Repeat the process to find the velocity and its error post-collision\n",
        "# You can call the velocity v1 and its error as delta_v1\n",
        "coeff_linear_post_m1, cov_post_m1 = np.polyfit(time_m1_post, pos_m1_post,1,cov=True)\n",
        "\n",
        "u1_post = coeff_linear_post_m1[0]\n",
        "\n",
        "delta_u1_post = np.sqrt(cov_post_m1[0,0])\n",
        "\n",
        "\n",
        "\n",
        "\n",
        "\n"
      ],
      "metadata": {
        "id": "DOVGqe-Dv3z9"
      },
      "execution_count": 21,
      "outputs": []
    },
    {
      "cell_type": "markdown",
      "source": [
        "You now have 4 important values. \n",
        "\n",
        "We have \n",
        "\n",
        "i) velocity of $m_1$ pre-collision : mean $u_1$ error $\\delta u_1$\n",
        "\n",
        "ii) velocity of $m_1$ post-collision : mean $v_1$ error $\\delta v_1$"
      ],
      "metadata": {
        "id": "Y9r8sv1tRtug"
      }
    },
    {
      "cell_type": "markdown",
      "source": [
        "We still need to find $u_2$, $\\delta u_2$, $v_2$ and $\\delta v_2$. We do this by repeating the process starting from plotting the position vs time for $m_2$."
      ],
      "metadata": {
        "id": "sRVG6gu3xVTi"
      }
    },
    {
      "cell_type": "code",
      "source": [
        "# Plot the position of m2 vs time\n",
        "plt.plot(time_m2,position_m2)\n",
        "\n",
        "# Use axes labels\n",
        "plt.xlabel('Time')\n",
        "plt.ylabel('Position of M2')\n"
      ],
      "metadata": {
        "id": "gUv7j5Zyxs-T",
        "outputId": "a6ebfb62-6044-4bcf-ae64-5d238d1893b5",
        "colab": {
          "base_uri": "https://localhost:8080/",
          "height": 297
        }
      },
      "execution_count": 24,
      "outputs": [
        {
          "output_type": "execute_result",
          "data": {
            "text/plain": [
              "Text(0, 0.5, 'Position of M2')"
            ]
          },
          "metadata": {},
          "execution_count": 24
        },
        {
          "output_type": "display_data",
          "data": {
            "text/plain": [
              "<Figure size 432x288 with 1 Axes>"
            ],
            "image/png": "[encoded data removed]"
          },
          "metadata": {
            "needs_background": "light"
          }
        }
      ]
    },
    {
      "cell_type": "code",
      "source": [
        "# Plot the position of m2 vs array index\n",
        "\n",
        "# Use plt.plot(position_m2)\n",
        "\n",
        "# Use axes labels\n",
        "array_index=np.arange(0,len(position_m2))\n",
        "plt.plot(array_index, position_m2)\n",
        "\n",
        "plt.xlabel('Array Index')\n",
        "plt.ylabel('Position M2')\n",
        "plt.title('Position of m2 vs array index')\n"
      ],
      "metadata": {
        "id": "SEcadqIQxtEy",
        "outputId": "d5400f53-d54b-4f6b-912e-2b22fc96559f",
        "colab": {
          "base_uri": "https://localhost:8080/",
          "height": 313
        }
      },
      "execution_count": 25,
      "outputs": [
        {
          "output_type": "execute_result",
          "data": {
            "text/plain": [
              "Text(0.5, 1.0, 'Position of m2 vs array index')"
            ]
          },
          "metadata": {},
          "execution_count": 25
        },
        {
          "output_type": "display_data",
          "data": {
            "text/plain": [
              "<Figure size 432x288 with 1 Axes>"
            ],
            "image/png": "[encoded data removed]"
          },
          "metadata": {
            "needs_background": "light"
          }
        }
      ]
    },
    {
      "cell_type": "code",
      "source": [
        "# Create arrays for pre and post collision position and time like you did for m1\n",
        "\n",
        "\n",
        "pos_m2_pre = position_m2[35:70]\n",
        "\n",
        "\n",
        "time_m2_pre = time_m2[35:70]\n",
        "\n",
        "\n",
        "pos_m2_post = position_m2[70:110]\n",
        "\n",
        "\n",
        "time_m2_post = time_m2[70:110]\n",
        "\n",
        "\n",
        "\n",
        "\n"
      ],
      "metadata": {
        "id": "QqIkavvuxtHl"
      },
      "execution_count": 29,
      "outputs": []
    },
    {
      "cell_type": "code",
      "source": [
        "# Find u2, v2 and associated errors using polyfit\n",
        "from numpy.lib.nanfunctions import nanprod\n",
        "coeff_linear_pre_m2, cov_pre_m2 = np.polyfit(time_m2_pre, pos_m2_pre,1,cov=True)\n",
        "# The slope of this curve is the velocity pre-collision\n",
        "u2 = coeff_linear_pre_m2[0]\n",
        "\n",
        "\n",
        "#The error in velocity is found from cov_pre\n",
        "delta_u2 = np.sqrt(cov_pre_m2[0,0])\n",
        "\n",
        "# Repeat the process to find the velocity and its error post-collision\n",
        "# You can call the velocity v1 and its error as delta_v1\n",
        "coeff_linear_post_m2, cov_post_m2 = np.polyfit(time_m2_post, pos_m2_post,1,cov=True)\n",
        "\n",
        "u2_post = coeff_linear_post_m2[0]\n",
        "\n",
        "delta_u2_post = np.sqrt(cov_post_m2[0,0])\n",
        "\n",
        "\n",
        "\n",
        "\n",
        "\n",
        "\n",
        "\n"
      ],
      "metadata": {
        "id": "ZAFFSHuPxtKV"
      },
      "execution_count": 30,
      "outputs": []
    },
    {
      "cell_type": "markdown",
      "source": [
        "Now we know 8 important values.\n",
        "\n",
        "i) velocity of $m_1$ pre-collision : mean $u_1$ error $\\delta u_1$\n",
        "\n",
        "ii) velocity of $m_1$ post-collision : mean $v_1$ error $\\delta v_1$\n",
        "\n",
        "iii) velocity of $m_2$ pre-collision : mean $u_2$ error $\\delta u_2$\n",
        "\n",
        "iv) velocity of $m_2$ post-collision : mean $v_2$ error $\\delta v_2$"
      ],
      "metadata": {
        "id": "4iiG0A_Kx-ST"
      }
    },
    {
      "cell_type": "markdown",
      "source": [
        "Create variables for storing the mass of $m_1$ and $m_2$ as well as the associated $\\delta m_1$ and $\\delta m_2$.\n",
        "\n",
        "$\\delta m_1$ and $\\delta m_2$ are the minimum measurements on the scale."
      ],
      "metadata": {
        "id": "6Zdi609WTHRA"
      }
    },
    {
      "cell_type": "code",
      "source": [
        "m1 = 0.413\n",
        "\n",
        "m2 = 0.422\n",
        "\n",
        "delta_m1 = 0.05\n",
        "\n",
        "delta_m2 = 0.05\n"
      ],
      "metadata": {
        "id": "hNHmGMMxTGzg"
      },
      "execution_count": 31,
      "outputs": []
    },
    {
      "cell_type": "markdown",
      "source": [
        "You have already built the functions to find momentum, error in momentum, energy and error in energy in the Pre-lab. Please copy the functions from the cell and paste them into cells in this notebook. "
      ],
      "metadata": {
        "id": "iFAnktgN-we9"
      }
    },
    {
      "cell_type": "code",
      "source": [
        "# define momentum function\n",
        "# Define your function which takes the argument m and an argument v\n",
        "def momentum_function(m, v):\n",
        "\n",
        "# Indent starting here\n",
        "# Calculate p\n",
        "  p = m*v\n",
        "\n",
        "# Return p\n",
        "  return p"
      ],
      "metadata": {
        "id": "h3mlz8-ST5YP"
      },
      "execution_count": 32,
      "outputs": []
    },
    {
      "cell_type": "code",
      "source": [
        "# define momentum error function\n",
        "# Define your function which takes the argument m, v, delta_m and delta_v\n",
        "def momentum_error(m, v, delta_m, delta_v):\n",
        "\n",
        "# Indent starting here\n",
        "  p = m*v\n",
        "  delta_p = p*np.sqrt((delta_m/m)**2+(delta_v/v)**2)\n",
        "# Calculate delta_p\n",
        "\n",
        "\n",
        "\n",
        "# Return delta_p\n",
        "  return delta_p"
      ],
      "metadata": {
        "id": "dpbQEgvvT_yE"
      },
      "execution_count": 33,
      "outputs": []
    },
    {
      "cell_type": "code",
      "source": [
        "# define energy function\n",
        "# Define your function which takes the argument m and an argument v\n",
        "def kinetic_energy_function(m, v):\n",
        "\n",
        "# Indent starting here\n",
        "  K = .5*m*v**2\n",
        "# Calculate K\n",
        "\n",
        "# Return K\n",
        "  return K"
      ],
      "metadata": {
        "id": "8r3GVei4T_50"
      },
      "execution_count": 34,
      "outputs": []
    },
    {
      "cell_type": "code",
      "source": [
        "# define energy error function\n",
        "# Define the function taking m, v, delta m, delta v\n",
        "def energy_error(m, v, delta_m, delta_v):\n",
        "\n",
        "# Indent starting here\n",
        "# Calculate delta_K\n",
        "  #define w\n",
        "   w = v**2\n",
        "   #Calculate dw\n",
        "   delta_w = 2*abs(v)*(delta_v/abs(v))\n",
        "   #Define z\n",
        "   z = m*w\n",
        "   #Calculate dz\n",
        "   delta_z = abs(z)*np.sqrt((delta_m/m)**2+(delta_w/w)**2)\n",
        "   #Define K\n",
        "   K = .5*z\n",
        "   #Calculate error in Kinetic Energy\n",
        "   delta_K = abs(K)*(delta_z/abs(z))\n",
        "   return delta_K"
      ],
      "metadata": {
        "id": "hjR7XHe1UABT"
      },
      "execution_count": 35,
      "outputs": []
    },
    {
      "cell_type": "markdown",
      "source": [
        "Now, call the functions on the values that you have. Remember that the order of inputs into the function call must be in exactly the same order as the function definition. "
      ],
      "metadata": {
        "id": "RqjnHNO6UAlK"
      }
    },
    {
      "cell_type": "markdown",
      "source": [
        "# Momentum and errors"
      ],
      "metadata": {
        "id": "nXCtw7uoUjab"
      }
    },
    {
      "cell_type": "code",
      "source": [
        "# m1 initial momentum with error\n",
        "p1i = momentum_function(m1, u1)\n",
        "print(p1i)\n",
        "delta_p1i = momentum_error(m1, u1, delta_m1, delta_u1)\n",
        "print(delta_p1i)\n"
      ],
      "metadata": {
        "id": "IhPkpfIvUYJl",
        "outputId": "25fbac20-93b9-4459-f4f0-f7b0155a88db",
        "colab": {
          "base_uri": "https://localhost:8080/"
        }
      },
      "execution_count": 40,
      "outputs": [
        {
          "output_type": "stream",
          "name": "stdout",
          "text": [
            "0.014737944609452155\n",
            "0.0017874941573544246\n"
          ]
        }
      ]
    },
    {
      "cell_type": "code",
      "source": [
        "# m2 initial momentum with error\n",
        "p2i = momentum_function(m2, u2)\n",
        "print(p2i)\n",
        "delta_p2i = momentum_error(m2, u2, delta_m2 ,delta_u2)\n",
        "print(delta_p2i)\n"
      ],
      "metadata": {
        "id": "fIGW8hFuUYMF",
        "outputId": "1c6914e3-3389-4884-96a3-c436c686fe6b",
        "colab": {
          "base_uri": "https://localhost:8080/"
        }
      },
      "execution_count": 39,
      "outputs": [
        {
          "output_type": "stream",
          "name": "stdout",
          "text": [
            "0.012860507364304745\n",
            "0.0015737694550960004\n"
          ]
        }
      ]
    },
    {
      "cell_type": "code",
      "source": [
        "# m1 final momentum with error\n",
        "p1f = momentum_function(m1, u1_post)\n",
        "print(p1f)\n",
        "delta_p1f = momentum_error(m1, u1_post,delta_m1, delta_u1_post)\n",
        "print(delta_p1f)\n"
      ],
      "metadata": {
        "id": "6pkhxkqeUYOy",
        "outputId": "c0b71967-2e53-4922-fe24-b7adc4df44c6",
        "colab": {
          "base_uri": "https://localhost:8080/"
        }
      },
      "execution_count": 43,
      "outputs": [
        {
          "output_type": "stream",
          "name": "stdout",
          "text": [
            "-0.011028893428451496\n",
            "-0.0013765855887758224\n"
          ]
        }
      ]
    },
    {
      "cell_type": "code",
      "source": [
        "# m2 final momentum with error\n",
        "p2f = momentum_function(m2, u2_post)\n",
        "print(p2f)\n",
        "delta_p2f = momentum_error(m2, u2_post,delta_m2, delta_u2_post)\n",
        "print(delta_p2f)\n"
      ],
      "metadata": {
        "id": "SWKX7ksMUYRu",
        "outputId": "1e00b3b9-f9ab-4d42-d4b0-01a89b18417e",
        "colab": {
          "base_uri": "https://localhost:8080/"
        }
      },
      "execution_count": 44,
      "outputs": [
        {
          "output_type": "stream",
          "name": "stdout",
          "text": [
            "-0.012727741777170962\n",
            "-0.0015137675452082655\n"
          ]
        }
      ]
    },
    {
      "cell_type": "markdown",
      "source": [
        "System momentum loss :\n",
        "\n",
        "If the initial momentum and error of $m_1$ are $p_{1i}$ and $\\delta p_{1i}$, initial momentum with error of $m_2$ are $p_{2i}$ and $\\delta p_{2i}$, final momentum and error of $m_1$ are $p_{1f}$ and $\\delta p_{1f}$, final momentum with error of $m_2$ are $p_{2f}$ and $\\delta p_{2f}$ then,\n",
        "\n",
        "The system momentum loss is $(p_{1i} + p_{2i}) - (p_{1f} + p_{2f})$\n",
        "\n",
        "The error in system momentum loss is $ \\sqrt {({\\delta p_{1i}})^2 + ({\\delta p_{2i}})^2 + ({\\delta p_{1f}})^2 +({\\delta p_{2f}})^2} $"
      ],
      "metadata": {
        "id": "0dIyUSTUUwZK"
      }
    },
    {
      "cell_type": "code",
      "source": [
        "# System momentum loss\n",
        "sml = (p1i + p2i) - (p1f + p2f)\n",
        "print(sml)\n",
        "\n",
        "# Error in system momentum loss\n",
        "error_sml = np.sqrt((delta_p1i)**2+(delta_p2i)**2+(delta_p1f)**2+(delta_p2f)**2)\n",
        "print(error_sml)\n",
        "\n"
      ],
      "metadata": {
        "id": "vIE3yjeqUqaK",
        "outputId": "251bac37-7ebc-41f7-a20a-162e01c2d0f4",
        "colab": {
          "base_uri": "https://localhost:8080/"
        }
      },
      "execution_count": 47,
      "outputs": [
        {
          "output_type": "stream",
          "name": "stdout",
          "text": [
            "0.05135508717937935\n",
            "0.0031398034531671727\n"
          ]
        }
      ]
    },
    {
      "cell_type": "markdown",
      "source": [
        "# Energy and errors"
      ],
      "metadata": {
        "id": "l5WhrOXiUnCw"
      }
    },
    {
      "cell_type": "markdown",
      "source": [
        "Follow the procedure outlined in the momentum section and find the energies and associated errors."
      ],
      "metadata": {
        "id": "lAhLmEC-XJEt"
      }
    },
    {
      "cell_type": "code",
      "metadata": {
        "id": "FMHleaxK0119",
        "outputId": "f77b5418-1e7d-4c0d-c5e1-b074d37d6e69",
        "colab": {
          "base_uri": "https://localhost:8080/"
        }
      },
      "source": [
        "E1i = kinetic_energy_function(m1, u1)\n",
        "delta_E1i = energy_error(m1, u1, delta_m1, delta_u1)\n",
        "print(E1i)\n",
        "print(delta_E1i)\n",
        "\n",
        "E1f = kinetic_energy_function(m1, u1_post)\n",
        "delta_E1f = energy_error(m1 , u1_post, delta_m1, delta_u1_post)\n",
        "print(E1f)\n",
        "print(delta_E1f)\n",
        "\n",
        "E2i = kinetic_energy_function(m2, u2)\n",
        "delta_E2i = energy_error(m2,u2, delta_m2, delta_u2)\n",
        "print(E2i)\n",
        "print(delta_E2i)\n",
        "\n",
        "E2f = kinetic_energy_function(m2, u2_post)\n",
        "delta_E2f = energy_error(m2, u2_post, delta_m2, delta_u2_post)\n",
        "print(E2f)\n",
        "print(delta_E2f)"
      ],
      "execution_count": 49,
      "outputs": [
        {
          "output_type": "stream",
          "name": "stdout",
          "text": [
            "0.00026296248342769956\n",
            "0.00011217707710960468\n",
            "0.00014725967343358427\n",
            "0.00033541162679484306\n",
            "0.00019596285505608599\n",
            "0.00039427733122716116\n",
            "0.00019193769045775243\n",
            "0.00013366413808406385\n"
          ]
        }
      ]
    },
    {
      "cell_type": "markdown",
      "source": [
        "Find the system energy loss and its associated error."
      ],
      "metadata": {
        "id": "CAQVaM9LXTpW"
      }
    },
    {
      "cell_type": "code",
      "source": [
        "sel = E1i + E2i - E1f - E2f\n",
        "print(sel)\n",
        "\n",
        "sel_error = np.sqrt(delta_E1i**2 + delta_E2i**2 + delta_E1f**2 + delta_E2f**2)\n",
        "print(sel_error)"
      ],
      "metadata": {
        "id": "liE2Vx3aXbi0",
        "outputId": "c9fe4466-0ab9-4409-ad8d-4c653b00dee4",
        "colab": {
          "base_uri": "https://localhost:8080/"
        }
      },
      "execution_count": 53,
      "outputs": [
        {
          "output_type": "stream",
          "name": "stdout",
          "text": [
            "0.00011972797459244882\n",
            "0.0005462649281689111\n"
          ]
        }
      ]
    },
    {
      "cell_type": "markdown",
      "source": [
        "Once this is done, fill up one of the rows of the tables in the slides with your values. Fill up the other rows by taking the values from your teammates."
      ],
      "metadata": {
        "id": "rjFV7RrmyopM"
      }
    }
  ]
}