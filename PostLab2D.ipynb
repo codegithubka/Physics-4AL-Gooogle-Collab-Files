{
  "nbformat": 4,
  "nbformat_minor": 0,
  "metadata": {
    "colab": {
      "name": "Untitled0.ipynb",
      "provenance": [],
      "authorship_tag": "ABX9TyNt7JW3B+LdygHvayqKzsrD",
      "include_colab_link": true
    },
    "kernelspec": {
      "name": "python3",
      "display_name": "Python 3"
    },
    "language_info": {
      "name": "python"
    }
  },
  "cells": [
    {
      "cell_type": "markdown",
      "metadata": {
        "id": "view-in-github",
        "colab_type": "text"
      },
      "source": [
        "<a href=\"https://colab.research.google.com/github/codegithubka/Physics-4AL-Gooogle-Collab-Files/blob/main/PostLab2D.ipynb\" target=\"_parent\"><img src=\"https://colab.research.google.com/assets/colab-badge.svg\" alt=\"Open In Colab\"/></a>"
      ]
    },
    {
      "cell_type": "code",
      "execution_count": 2,
      "metadata": {
        "colab": {
          "base_uri": "https://localhost:8080/"
        },
        "id": "Z0hF-46I2KBX",
        "outputId": "9b005e4a-03c8-42ff-d219-c68b553b29fb"
      },
      "outputs": [
        {
          "output_type": "stream",
          "name": "stdout",
          "text": [
            "Mounted at drive\n"
          ]
        }
      ],
      "source": [
        "import numpy as np\n",
        "import matplotlib.pyplot as plt\n",
        "\n",
        "from google.colab import drive\n",
        "drive.mount('drive')\n"
      ]
    },
    {
      "cell_type": "code",
      "source": [
        "import csv\n",
        "import array\n",
        "import statistics\n",
        "from statistics import stdev\n",
        "\n",
        "xx = []\n",
        "xy = []\n",
        "xz = []\n",
        "\n",
        "yx = []\n",
        "yy = []\n",
        "yz = []\n",
        "\n",
        "zx = []\n",
        "zy = []\n",
        "zz = []\n",
        "\n",
        " "
      ],
      "metadata": {
        "id": "2u8uaBCz6pyW"
      },
      "execution_count": 27,
      "outputs": []
    },
    {
      "cell_type": "code",
      "source": [
        "with open('/content/drive/MyDrive/y_labfixed.csv', newline=\"\") as f: \n",
        "  csvreader = csv.reader(f) \n",
        "  for row in csvreader: \n",
        "    yx.append(float(row[2]))\n",
        "    yy.append(float(row[3]))\n",
        "    yz.append(float(row[4]))"
      ],
      "metadata": {
        "id": "0kQPlNwqAqi3"
      },
      "execution_count": 38,
      "outputs": []
    },
    {
      "cell_type": "code",
      "source": [
        "with open('/content/drive/MyDrive/x_axisfinal_please.csv', newline=\"\") as f: \n",
        "  csvreader = csv.reader(f) \n",
        "  for row in csvreader: \n",
        "    xx.append(float(row[2]))\n",
        "    xy.append(float(row[3]))\n",
        "    xz.append(float(row[4]))"
      ],
      "metadata": {
        "id": "dtFiwiFNAvFx"
      },
      "execution_count": 32,
      "outputs": []
    },
    {
      "cell_type": "code",
      "source": [
        "with open(\"/content/drive/MyDrive/z_axis_labdata.csv\", newline=\"\") as f: \n",
        "  csvreader = csv.reader(f) \n",
        "  for row in csvreader: \n",
        "    zx.append(float(row[2]))\n",
        "    zy.append(float(row[3]))\n",
        "    zz.append(float(row[4]))\n",
        "\n",
        "def r(a): #round to three decimal places, convert to str\n",
        "  return str(round(a,3))\n",
        "\n",
        "def final_print(x, y, z,):\n",
        "  return (r(np.mean(x)) + \"+- \" +r(np.std(x)) + \" | \" +r(np.mean(y))+ \"+- \"+r(np.std(y)) + \" | \" +r(np.mean(z)) + \"+- \"+ r(np.std(z)))\n",
        "\n",
        "print(\"         X Direction     Y Direction     Z Direction\")\n",
        "print(\"X Position   \"+ final_print(xx, xy, xz))\n",
        "print(\"Y Position   \"+ final_print(yx, yy, yz))\n",
        "print(\"Z Position   \"+ final_print(zx,zy,zz))"
      ],
      "metadata": {
        "colab": {
          "base_uri": "https://localhost:8080/"
        },
        "id": "ot_sPcy_AhR0",
        "outputId": "05397ce7-8978-4cb3-b008-977c8f20dc4b"
      },
      "execution_count": 39,
      "outputs": [
        {
          "output_type": "stream",
          "name": "stdout",
          "text": [
            "         X Direction     Y Direction     Z Direction\n",
            "X Position   119.262+- 55.416 | 16648.677+- 66.058 | -1107.2+- 79.324\n",
            "Y Position   103.677+- 57.802 | 16636.323+- 54.365 | -1116.065+- 77.691\n",
            "Z Position   -3150.351+- 53.391 | 674.68+- 53.434 | 15370.887+- 80.62\n"
          ]
        }
      ]
    },
    {
      "cell_type": "code",
      "source": [
        "def bestFitLine(x1, y1, x2, y2):\n",
        "  slope = (y2-y1)/(x2-x1)\n",
        "  intercept = y1 - slope*x1\n",
        "  return [slope, intercept]\n",
        "\n",
        "slope = bestFitLine(np.mean(xz), np.mean(yz), np.mean(zz), -9.81)[0]\n",
        "intercept = bestFitLine(np.mean(xz), np.mean(yz) , np.mean(zz), -9.81)[1]\n",
        "\n",
        "print(\"slope: \" + str(slope))\n",
        "print(\"intercept: \" + str(intercept))"
      ],
      "metadata": {
        "colab": {
          "base_uri": "https://localhost:8080/"
        },
        "id": "hYaJN54COTSo",
        "outputId": "93e56f7a-a7e4-4876-9179-a1b2facc7421"
      },
      "execution_count": 43,
      "outputs": [
        {
          "output_type": "stream",
          "name": "stdout",
          "text": [
            "slope: 0.06713488908763561\n",
            "intercept: -1041.7327669312021\n"
          ]
        }
      ]
    },
    {
      "cell_type": "code",
      "source": [
        "#Add the plot"
      ],
      "metadata": {
        "id": "u3Pzc07vPld7"
      },
      "execution_count": null,
      "outputs": []
    }
  ]
}