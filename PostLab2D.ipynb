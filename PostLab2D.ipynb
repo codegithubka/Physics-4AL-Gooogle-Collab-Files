{
  "nbformat": 4,
  "nbformat_minor": 0,
  "metadata": {
    "colab": {
      "name": "Untitled0.ipynb",
      "provenance": [],
      "authorship_tag": "ABX9TyMiCDk9Pf2U1trpt9YQbLl+",
      "include_colab_link": true
    },
    "kernelspec": {
      "name": "python3",
      "display_name": "Python 3"
    },
    "language_info": {
      "name": "python"
    }
  },
  "cells": [
    {
      "cell_type": "markdown",
      "metadata": {
        "id": "view-in-github",
        "colab_type": "text"
      },
      "source": [
        "<a href=\"https://colab.research.google.com/github/codegithubka/Physics-4AL-Gooogle-Collab-Files/blob/main/PostLab2D.ipynb\" target=\"_parent\"><img src=\"https://colab.research.google.com/assets/colab-badge.svg\" alt=\"Open In Colab\"/></a>"
      ]
    },
    {
      "cell_type": "code",
      "execution_count": null,
      "metadata": {
        "colab": {
          "base_uri": "https://localhost:8080/"
        },
        "id": "Z0hF-46I2KBX",
        "outputId": "9b005e4a-03c8-42ff-d219-c68b553b29fb"
      },
      "outputs": [
        {
          "output_type": "stream",
          "name": "stdout",
          "text": [
            "Mounted at drive\n"
          ]
        }
      ],
      "source": [
        "import numpy as np\n",
        "import matplotlib.pyplot as plt\n",
        "\n",
        "from google.colab import drive\n",
        "drive.mount('drive')\n"
      ]
    },
    {
      "cell_type": "code",
      "source": [
        "import csv\n",
        "import array\n",
        "import statistics\n",
        "from statistics import stdev\n",
        "xx = []\n",
        "xy = []\n",
        "xz = []\n",
        "\n",
        " "
      ],
      "metadata": {
        "id": "2u8uaBCz6pyW"
      },
      "execution_count": 53,
      "outputs": []
    },
    {
      "cell_type": "code",
      "source": [
        "with open('/content/drive/MyDrive/x_fcalibration_28.csv', newline=\"\") as f: \n",
        "  csvreader = csv.reader(f) \n",
        "  for row in csvreader: \n",
        "    xx.append(float(row[2]))\n",
        "    xy.append(float(row[3]))\n",
        "    xz.append(float(row[4]))"
      ],
      "metadata": {
        "id": "dtFiwiFNAvFx"
      },
      "execution_count": 54,
      "outputs": []
    },
    {
      "cell_type": "code",
      "source": [
        "z_cal = np.loadtxt('/content/drive/MyDrive/z calF.txt', delimiter=',')\n",
        "y_cal = np.loadtxt('/content/drive/MyDrive/y calF.txt', delimiter=',')\n",
        "\n",
        "yx = y_cal[:,2]\n",
        "yy = y_cal[:,3]\n",
        "yz = y_cal[:,4]\n",
        "\n",
        "zx = z_cal[:,2]\n",
        "zy = z_cal[:,3]\n",
        "zz = z_cal[:,4]"
      ],
      "metadata": {
        "id": "ot_sPcy_AhR0"
      },
      "execution_count": 61,
      "outputs": []
    },
    {
      "cell_type": "code",
      "source": [
        "zx_std = np.std(zx)\n",
        "zy_std = np.std(zy)\n",
        "zz_std = np.std(zz)\n",
        "\n",
        "yx_std = np.std(yx)\n",
        "yy_std = np.std(yy)\n",
        "yz_std = np.std(yz)\n",
        "\n",
        "xx_std = np.std(xx)\n",
        "xy_std = np.std(xy)\n",
        "xz_std = np.std(xz)\n",
        "\n",
        "print('Standard Deviation for xx, xy, xz')\n",
        "print(xx_std, xy_std, xz_std)\n"
      ],
      "metadata": {
        "id": "u3Pzc07vPld7",
        "outputId": "2da5740c-f6e8-4427-92a9-c937443604d8",
        "colab": {
          "base_uri": "https://localhost:8080/"
        }
      },
      "execution_count": 62,
      "outputs": [
        {
          "output_type": "stream",
          "name": "stdout",
          "text": [
            "Standard Deviation for xx, xy, xz\n",
            "52.15437054885179 49.95016473362325 80.18286583048223\n"
          ]
        }
      ]
    },
    {
      "cell_type": "code",
      "source": [
        "print('Standard Deviation for yx, yy, yz')\n",
        "print(yx_std, yy_std, yz_std)"
      ],
      "metadata": {
        "id": "QgMrc0PqkIpN",
        "outputId": "c02268a6-8682-4fa5-8e73-228575321186",
        "colab": {
          "base_uri": "https://localhost:8080/"
        }
      },
      "execution_count": 63,
      "outputs": [
        {
          "output_type": "stream",
          "name": "stdout",
          "text": [
            "Standard Deviation for yx, yy, yz\n",
            "62.39542702326577 69.7790167238671 76.45389791355564\n"
          ]
        }
      ]
    },
    {
      "cell_type": "code",
      "source": [
        "print('Standard Deviation for zx, zy, zz')\n",
        "print(zx_std, zy_std, zz_std)"
      ],
      "metadata": {
        "id": "4cw-ZM1PkJWt",
        "outputId": "5bf59e6f-7957-4762-f488-20bb44a445ba",
        "colab": {
          "base_uri": "https://localhost:8080/"
        }
      },
      "execution_count": 64,
      "outputs": [
        {
          "output_type": "stream",
          "name": "stdout",
          "text": [
            "Standard Deviation for zx, zy, zz\n",
            "52.23989778335353 44.9810032951628 98.63446550505115\n"
          ]
        }
      ]
    },
    {
      "cell_type": "code",
      "source": [
        "xx_mean = np.mean(xx)\n",
        "xy_mean = np.mean(xy)\n",
        "xz_mean = np.mean(xz)\n",
        "\n",
        "yx_mean = np.mean(yx)\n",
        "yy_mean = np.mean(yy)\n",
        "yz_mean = np.mean(yz)\n",
        "\n",
        "zx_mean = np.mean(zx)\n",
        "zy_mean = np.mean(zy)\n",
        "zz_mean = np.mean(zz)"
      ],
      "metadata": {
        "id": "6T3UQNVdkczE"
      },
      "execution_count": 65,
      "outputs": []
    },
    {
      "cell_type": "code",
      "source": [
        "print('Mean for xx, xy, xz')\n",
        "print(xx_mean, xy_mean, xz_mean)\n",
        "print('\\n')\n",
        "\n",
        "print('Mean for yx, yy, yz')\n",
        "print(yx_mean, yy_mean, yz_mean)\n",
        "print('\\n')\n",
        "\n",
        "print('Mean for zx, zy, zz')\n",
        "print(zx_mean, zy_mean, zz_mean)\n"
      ],
      "metadata": {
        "id": "hykZFsx0k1kf",
        "outputId": "6ca5e7c1-c4e2-401c-e5e0-9c41dec054d0",
        "colab": {
          "base_uri": "https://localhost:8080/"
        }
      },
      "execution_count": 67,
      "outputs": [
        {
          "output_type": "stream",
          "name": "stdout",
          "text": [
            "Mean for xx, xy, xz\n",
            "-15949.485714285714 -508.9904761904762 -2122.057142857143\n",
            "\n",
            "\n",
            "Mean for yx, yy, yz\n",
            "959.1186440677966 16311.796610169491 -203.52542372881356\n",
            "\n",
            "\n",
            "Mean for zx, zy, zz\n",
            "-1534.4117647058824 215.94117647058823 15791.35294117647\n"
          ]
        }
      ]
    },
    {
      "cell_type": "code",
      "source": [
        "y1 = 0\n",
        "y2 = -9.8\n",
        "x1 = xz_mean\n",
        "x2 = zz_mean\n",
        "\n",
        "def calibration_line(x1, y1, x2, y2):\n",
        "  slope = (y2-y1)/(x2-x1)\n",
        "  y_int = y1\n",
        "  return [slope, y_int]\n",
        "\n",
        "line = calibration_line(x1, y1, x2, y2)\n",
        "slope = line[0]\n",
        "intercept = line[1]\n",
        "\n",
        "x_axis = np.linspace(xz_mean, zz_mean, 100)\n",
        "plt.plot(x_axis, slope*x_axis+intercept)\n",
        "\n",
        "plt.xlabel('Sensor Output')\n",
        "plt.ylabel('Acceleration (m/s^2')\n",
        "\n",
        "print('Slope: ' +str(slope))\n",
        "print('Intercept: '+ str(intercept))\n",
        "         "
      ],
      "metadata": {
        "id": "viIAGUAslqYk",
        "outputId": "3092296e-bc3c-49ab-ef93-95cd653fd6b2",
        "colab": {
          "base_uri": "https://localhost:8080/",
          "height": 314
        }
      },
      "execution_count": 68,
      "outputs": [
        {
          "output_type": "stream",
          "name": "stdout",
          "text": [
            "Slope: -0.0005470761822582754\n",
            "Intercept: 0\n"
          ]
        },
        {
          "output_type": "display_data",
          "data": {
            "text/plain": [
              "<Figure size 432x288 with 1 Axes>"
            ],
            "image/png": "[encoded data removed]"
          },
          "metadata": {
            "needs_background": "light"
          }
        }
      ]
    }
  ]
}