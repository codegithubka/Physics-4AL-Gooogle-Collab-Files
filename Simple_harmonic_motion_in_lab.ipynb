{
  "nbformat": 4,
  "nbformat_minor": 0,
  "metadata": {
    "colab": {
      "name": "Simple harmonic motion in-lab.ipynb",
      "provenance": [],
      "collapsed_sections": [],
      "include_colab_link": true
    },
    "kernelspec": {
      "name": "python3",
      "display_name": "Python 3"
    }
  },
  "cells": [
    {
      "cell_type": "markdown",
      "metadata": {
        "id": "view-in-github",
        "colab_type": "text"
      },
      "source": [
        "<a href=\"https://colab.research.google.com/github/codegithubka/Physics-4AL-Gooogle-Collab-Files/blob/main/Simple_harmonic_motion_in_lab.ipynb\" target=\"_parent\"><img src=\"https://colab.research.google.com/assets/colab-badge.svg\" alt=\"Open In Colab\"/></a>"
      ]
    },
    {
      "cell_type": "markdown",
      "metadata": {
        "id": "ZRELyURANrjb"
      },
      "source": [
        "# Least squares fitting"
      ]
    },
    {
      "cell_type": "markdown",
      "metadata": {
        "id": "1yZSuZAqXb1Q"
      },
      "source": [
        "One way to analyze this system is by obtaining a function that fits the data. We know that simple harmonic motion has a sinusoidal profile so we will try to fit the best fit sinusoidal function. This is not as simple as using the np.polyfit but this will give you an idea of what goes behind the scenes of np.polyfit\n",
        "\n",
        "We plot our ultrasound data again as a start. We'll use the[ example data](https://drive.google.com/open?id=1mRAl6J92CvmfPjvzcUuCasVbSuXsWL5i) from the pre-lab, but you will be expected to do this procedure on your own data for the lab report."
      ]
    },
    {
      "cell_type": "code",
      "metadata": {
        "id": "JENnPiXGYMHM",
        "outputId": "aeea95dd-03e2-4abd-ce67-57414528b7cf",
        "colab": {
          "base_uri": "https://localhost:8080/",
          "height": 123
        }
      },
      "source": [
        "# Run this cell to mount your Google Drive.\n",
        "from google.colab import drive\n",
        "drive.mount('drive')"
      ],
      "execution_count": null,
      "outputs": [
        {
          "output_type": "stream",
          "text": [
            "Go to this URL in a browser: https://accounts.google.com/o/oauth2/auth?client_id=947318989803-6bn6qk8qdgf4n4g3pfee6491hc0brc4i.apps.googleusercontent.com&redirect_uri=urn%3aietf%3awg%3aoauth%3a2.0%3aoob&response_type=code&scope=email%20https%3a%2f%2fwww.googleapis.com%2fauth%2fdocs.test%20https%3a%2f%2fwww.googleapis.com%2fauth%2fdrive%20https%3a%2f%2fwww.googleapis.com%2fauth%2fdrive.photos.readonly%20https%3a%2f%2fwww.googleapis.com%2fauth%2fpeopleapi.readonly\n",
            "\n",
            "Enter your authorization code:\n",
            "··········\n",
            "Mounted at drive\n"
          ],
          "name": "stdout"
        }
      ]
    },
    {
      "cell_type": "code",
      "metadata": {
        "id": "Z9jS3araYPgu"
      },
      "source": [
        "# numpy has a function that helps to read data files so we import it\n",
        "import numpy as np\n",
        "import matplotlib.pyplot as plt\n",
        "\n",
        "# Read in data using np.loadtxt. It takes in two inputs, the path to the file and a delimiter. The delimiter in this case is ',' since it is a csv file.\n",
        "# We used skiprows = 1 to skip the first row of the csv file which contained the column headers and the units. \n",
        "# Your data should have five columns - elapsed time, acceleration in x direction, acceleration in y direction, acceleration in z direction, ultrasound distance\n",
        "read_in_array = np.loadtxt('/content/drive/My Drive/Student Resources/Lab Instructions 4A Lab/Lab 3B/testOscillation1.csv',skiprows=1,delimiter=',')"
      ],
      "execution_count": null,
      "outputs": []
    },
    {
      "cell_type": "code",
      "metadata": {
        "id": "_CIsqhgiYoW5"
      },
      "source": [
        "# This dataset has five columns\n",
        "# Take all of the elements in the 0th column to create your x-axis array\n",
        "x_axis = read_in_array[:,0]\n",
        "# Elapsed time is typically always going to be the x-axis\n",
        "# We are converting it from units of ms to s.\n",
        "elapsed_time = (x_axis-x_axis[0])/1000.\n",
        "\n",
        "# We create an array to store the acceleration in x - the axis along which simple harmonic motion takes place\n",
        "acc_data_unrefined = read_in_array[:,1]\n",
        "\n",
        "# The units are cm/s^2, we are converting it to m/s^2.\n",
        "# The data is collected from a vertical spring mass system.\n",
        "# We add 9.8 to the array to centre the acceleration around 0 since the smaller mass in the accelerometer always experiences -g. \n",
        "acc_data = (acc_data_unrefined/100.)+9.8\n",
        "\n",
        "# We create an array to store the ultrasound sensor data - this value is in mm, so we convert the unit to m.\n",
        "ultrasound_unrefined = read_in_array[:,4]\n",
        "ultrasound = ultrasound_unrefined/1000."
      ],
      "execution_count": null,
      "outputs": []
    },
    {
      "cell_type": "code",
      "metadata": {
        "id": "w5OqHo3SPTgO",
        "outputId": "8190a56d-2fe8-479b-c29b-ea885ecc839b",
        "colab": {
          "base_uri": "https://localhost:8080/",
          "height": 312
        }
      },
      "source": [
        "start_time = 20\n",
        "\n",
        "# Starting the array from the 20th element instead of 0\n",
        "ultrasound_window = ultrasound[start_time:1000]\n",
        "elapsed_time_window = elapsed_time[start_time:1000]\n",
        "\n",
        "# Create a scatter plot\n",
        "plt.scatter(elapsed_time_window,ultrasound_window,color=\"blue\")\n",
        "\n",
        "# Provide a title to the plot\n",
        "plt.title('Ultrasound data for simple harmonic motion')\n",
        "\n",
        "# Label the y-axis\n",
        "plt.ylabel('Displacement (m)')\n",
        "\n",
        "# Label the x-axis\n",
        "plt.xlabel('Time (s)')"
      ],
      "execution_count": null,
      "outputs": [
        {
          "output_type": "execute_result",
          "data": {
            "text/plain": [
              "Text(0.5, 0, 'Time (s)')"
            ]
          },
          "metadata": {
            "tags": []
          },
          "execution_count": 5
        },
        {
          "output_type": "display_data",
          "data": {
            "image/png": "[encoded data removed]",
            "text/plain": [
              "<Figure size 432x288 with 1 Axes>"
            ]
          },
          "metadata": {
            "tags": [],
            "needs_background": "light"
          }
        }
      ]
    },
    {
      "cell_type": "markdown",
      "metadata": {
        "id": "0JFSazC7YDBO"
      },
      "source": [
        "The first thing we will do is try to approximately guess from the plot, the critical values to a sine function. These are the amplitude of osciallation, the frequency, the offset and the phase. We will rely on scipy.optimize module's least_squares function. "
      ]
    },
    {
      "cell_type": "code",
      "metadata": {
        "id": "HkwjnOlWS5M9"
      },
      "source": [
        "from scipy.optimize import least_squares\n",
        "\n",
        "# Make reasonable guesses for parameters like amplitude, omega, offset and phi based on the plot above \n",
        "guess_amplitude = 0.1 \n",
        "guess_omega = 5\n",
        "guess_offset = 0.55\n",
        "guess_phi = 0\n",
        "\n",
        "# Store all the guessed parameters in an array\n",
        "guess_parameters = [guess_amplitude, guess_omega, guess_offset, guess_phi]"
      ],
      "execution_count": null,
      "outputs": []
    },
    {
      "cell_type": "markdown",
      "metadata": {
        "id": "kuo-tPVYYpC0"
      },
      "source": [
        "We define a function that can generate a sine wave based on the four parameters in consideration. Remember that functions take in inputs and return a result."
      ]
    },
    {
      "cell_type": "code",
      "metadata": {
        "id": "gzfDl6OePJ17"
      },
      "source": [
        "def sin_fit_fun(parameters, time):\n",
        "  a = parameters[0]\n",
        "  omega = parameters[1]\n",
        "  offset = parameters[2]\n",
        "  phi = parameters[3]\n",
        "  y = a * np.sin(omega * time + phi) + offset\n",
        "  return y"
      ],
      "execution_count": null,
      "outputs": []
    },
    {
      "cell_type": "markdown",
      "metadata": {
        "id": "yMe3A-aWY8X_"
      },
      "source": [
        "We define another function called get_residuals. The purpose of this function is to take in the following inputs - the original data and the parameters for the guessed function. This function will then provide us with residuals or the differences between the observed and predicted values."
      ]
    },
    {
      "cell_type": "code",
      "metadata": {
        "id": "GN8jTGZEPKCi"
      },
      "source": [
        "def get_residuals(parameters, data, x):\n",
        "  residuals = np.abs(data - sin_fit_fun(parameters, x))\n",
        "  return -residuals"
      ],
      "execution_count": null,
      "outputs": []
    },
    {
      "cell_type": "markdown",
      "metadata": {
        "id": "S9jRtYJHZ7oa"
      },
      "source": [
        "Plot the guessed function with initial guesses vs the original data."
      ]
    },
    {
      "cell_type": "code",
      "metadata": {
        "id": "Wmy7maWTPSp3",
        "outputId": "4ef487a9-3a20-4be3-fa99-d2068d9ba2d9",
        "colab": {
          "base_uri": "https://localhost:8080/",
          "height": 312
        }
      },
      "source": [
        "# Create a sin function based on original guess parameters\n",
        "theoretical_guess_function = sin_fit_fun(guess_parameters, elapsed_time_window)\n",
        "\n",
        "# Plot the guess function\n",
        "plt.plot(elapsed_time_window, theoretical_guess_function,color=\"green\",label=\"Guessed sine function\")\n",
        "\n",
        "# Plot the original data\n",
        "plt.plot(elapsed_time_window, ultrasound_window, label=\"Ultrasound data\")\n",
        "\n",
        "plt.xlabel(\"Time (s)\")\n",
        "plt.ylabel(\"Displacement (m)\")\n",
        "plt.title(\"Ultrasound data with the initial guess sin function\")\n",
        "plt.legend()"
      ],
      "execution_count": null,
      "outputs": [
        {
          "output_type": "execute_result",
          "data": {
            "text/plain": [
              "<matplotlib.legend.Legend at 0x7ff886ece710>"
            ]
          },
          "metadata": {
            "tags": []
          },
          "execution_count": 9
        },
        {
          "output_type": "display_data",
          "data": {
            "image/png": "[encoded data removed]",
            "text/plain": [
              "<Figure size 432x288 with 1 Axes>"
            ]
          },
          "metadata": {
            "tags": [],
            "needs_background": "light"
          }
        }
      ]
    },
    {
      "cell_type": "markdown",
      "metadata": {
        "id": "4MV3Q36pbdp3"
      },
      "source": [
        "Now we will use the least squares function to minimize the residuals obtained. This will ensure that out best fit function is very close to the original data."
      ]
    },
    {
      "cell_type": "code",
      "metadata": {
        "id": "1gMv-Vc2REnx"
      },
      "source": [
        "# The imported least_squares function minimizes the residuals\n",
        "res_lsq = least_squares(get_residuals, guess_parameters, \n",
        "args=(ultrasound_window,elapsed_time_window))\n",
        "\n",
        "# We store the values of best possible paremeters obtained for amplitude, omega, offset and phase in best_parameters\n",
        "best_parameters = res_lsq['x']"
      ],
      "execution_count": null,
      "outputs": []
    },
    {
      "cell_type": "code",
      "metadata": {
        "id": "BPBLOGHtQiAw"
      },
      "source": [
        "res_lsq = least_squares(get_residuals, guess_parameters, \n",
        "                        args=(ultrasound_window,elapsed_time_window))\n",
        "\n",
        "best_parameters = res_lsq['x']\n",
        "\n",
        "# Print the values of the best parameters\n",
        "print('Best Amplitude: ' + str(best_parameters[0]))\n",
        "print('Best Omega: ' + str(best_parameters[1]))\n",
        "print('Best offset: ' + str(best_parameters[2]))\n",
        "print('Best Phi: ' + str(best_parameters[3]))"
      ],
      "execution_count": null,
      "outputs": []
    },
    {
      "cell_type": "markdown",
      "metadata": {
        "id": "cwsg2IAdcIW-"
      },
      "source": [
        "We will now plot the best fit sin function based on the parameters obtained using the least squares function."
      ]
    },
    {
      "cell_type": "code",
      "metadata": {
        "id": "Yqb3sanwQZEx",
        "outputId": "7ce4a125-26ab-4ca2-e2f7-912fc9c0e947",
        "colab": {
          "base_uri": "https://localhost:8080/",
          "height": 363
        }
      },
      "source": [
        "# The best fit sin function will have the best_parameters as an input to the sin function that we created\n",
        "fitted_function = sin_fit_fun(best_parameters, elapsed_time_window)\n",
        "\n",
        "# Plot the original data and the best fit function on the same plot\n",
        "plt.plot(elapsed_time_window, ultrasound_window,label=\"Ultrasound data\")\n",
        "plt.plot(elapsed_time_window, fitted_function, color = 'green', label=\"Best fit function\")\n",
        "plt.xlabel(\"Time (s)\")\n",
        "plt.ylabel(\"Displacement (m)\")\n",
        "plt.legend()\n",
        "plt.title(\"Ultrasound data with the best fit sin function\")\n",
        "\n",
        "# Print the values of the best parameters\n",
        "print('Best Amplitude: ' + str(best_parameters[0]))\n",
        "print('Best Omega: ' + str(best_parameters[1]))\n",
        "print('Best offset: ' + str(best_parameters[2]))\n",
        "print('Best Phi: ' + str(best_parameters[3]))"
      ],
      "execution_count": null,
      "outputs": [
        {
          "output_type": "stream",
          "text": [
            "Best Amplitude: 0.08534514412738414\n",
            "Best Omega: 5.223399414153791\n",
            "Best offset: 0.5362215105739305\n",
            "Best Phi: -0.5705371665105196\n"
          ],
          "name": "stdout"
        },
        {
          "output_type": "display_data",
          "data": {
            "image/png": "[encoded data removed]",
            "text/plain": [
              "<Figure size 432x288 with 1 Axes>"
            ]
          },
          "metadata": {
            "tags": [],
            "needs_background": "light"
          }
        }
      ]
    },
    {
      "cell_type": "markdown",
      "metadata": {
        "id": "uIG1uWqjc8PH"
      },
      "source": [
        "We now have the best fit function to our data. Remember that this works only for a small portion of our data. Our data shows damping in the long run. However, in a smaller time frame, we can use this best fit function to verify if our accelerometer readings agree with us. The function that we obtained finds the position x at any time t. This function x(t) can be differentiated once to get velocity and differentiated again to get acceleration. "
      ]
    },
    {
      "cell_type": "code",
      "metadata": {
        "id": "9sGvhJ9eRkoZ"
      },
      "source": [
        "# The differentiation can be done by hand and then typed into code\n",
        "# vel_fit is the velocity as a function of time\n",
        "vel_fit = best_parameters[0]*best_parameters[1]*np.cos(best_parameters[1]*elapsed_time_window+best_parameters[3])\n",
        "\n",
        "# acc_fit is the acceleration as a function of time\n",
        "acc_fit = -best_parameters[0]*(best_parameters[1]**2)*np.sin(best_parameters[1]*elapsed_time_window+best_parameters[3])"
      ],
      "execution_count": null,
      "outputs": []
    },
    {
      "cell_type": "markdown",
      "metadata": {
        "id": "9j04BWB7dy0W"
      },
      "source": [
        "[Optional] Plot the acceleration plot from the best fit sin function and compare it with the accelerometer data. What are the differences that you obtain? "
      ]
    },
    {
      "cell_type": "code",
      "metadata": {
        "id": "6TNGtZ6nTA0a"
      },
      "source": [
        "# Create a scatter plot - elapsed time VS accelerometer data\n",
        "\n",
        "# Create a plot - elapsed time VS acceleration obtained from best fit positions data\n",
        "\n",
        "# Provide a title to the plot\n",
        "\n",
        "# Label the x axis\n",
        "\n",
        "# Label the y axis\n",
        "\n",
        "# Proivde legends"
      ],
      "execution_count": null,
      "outputs": []
    },
    {
      "cell_type": "markdown",
      "metadata": {
        "id": "J1ptZjJLZCI4"
      },
      "source": [
        "# Your analysis\n",
        "\n",
        "Plot and fit your own data below "
      ]
    },
    {
      "cell_type": "code",
      "metadata": {
        "id": "bodgXno4ZUCp"
      },
      "source": [
        "# Read in your time and position data\n",
        "# Read in your time and position data\n",
        "arr = np.loadtxt('/content/gdrive/MyDrive/Tran, Tommy/assets/3A_osci2.txt', delimiter=',')\n",
        "time = (arr[:,0] - arr[:,0][0]) / 1000 # make it elapsed time and convert ms to s\n",
        "pos = arr[:,1] / 100 # convert cm to m\n",
        "\n",
        "\n"
      ],
      "execution_count": null,
      "outputs": []
    },
    {
      "cell_type": "markdown",
      "metadata": {
        "id": "KCs1fYEeZhXz"
      },
      "source": [
        "Below are the functions you need for the fit"
      ]
    },
    {
      "cell_type": "code",
      "metadata": {
        "id": "A-dWUxj-ZaWw"
      },
      "source": [
        "def sin_fit_fun(parameters, time):\n",
        "  a = parameters[0]\n",
        "  omega = parameters[1]\n",
        "  offset = parameters[2]\n",
        "  phi = parameters[3]\n",
        "  y = a * np.sin(omega * time + phi) + offset\n",
        "  return y"
      ],
      "execution_count": null,
      "outputs": []
    },
    {
      "cell_type": "markdown",
      "metadata": {
        "id": "K2iRLe7dZpcS"
      },
      "source": [
        "Plot your time vs position data"
      ]
    },
    {
      "cell_type": "code",
      "metadata": {
        "id": "Ehmq3gsxZofu"
      },
      "source": [
        "# Make a plot\n",
        "plt.plot(time, pos, label='Cycles of Harmonic Oscillation') \n",
        "\n",
        "# Axis labels\n",
        "plt.xlabel('Time (s)')\n",
        "plt.ylabel('Distance (m)')\n",
        "\n",
        "# Title\n",
        "plt.title('Distance vs Time')\n",
        "plt.legend()\n",
        "\n",
        "\n"
      ],
      "execution_count": null,
      "outputs": []
    },
    {
      "cell_type": "markdown",
      "metadata": {
        "id": "5fxLRmUPZ1_B"
      },
      "source": [
        "Clip your data so that the phase is 0"
      ]
    },
    {
      "cell_type": "code",
      "metadata": {
        "id": "6HR4D8azZ9tu"
      },
      "source": [
        "# Plot against indices\n",
        "plt.plot(pos, label='Cycles of Harmonic Oscillation') \n",
        "# Axis labels\n",
        "plt.xlabel('Index')\n",
        "plt.ylabel('Distance (m)')\n",
        "\n",
        "# Title\n",
        "plt.title('Distance vs Index')\n",
        "plt.legend()\n",
        "\n",
        "\n",
        "# define your starting time\n",
        "start_ind = 0\n",
        "end_ind = 0\n",
        "# Clip your data\n",
        "time_window = time[start_ind:end_ind]\n",
        "pos_window = pos[start_ind:end_ind]\n",
        "\n",
        "\n",
        "# Make a plot\n",
        "plt.plot(time_window, pos_window, label='Cycles of Harmonic Oscillation') \n",
        "plt.xlabel('Elapsed Time (s)')\n",
        "plt.ylabel('Distance (m)')\n",
        "plt.title('Distance vs Elapsed Time')\n",
        "plt.legend()\n"
      ],
      "execution_count": null,
      "outputs": []
    },
    {
      "cell_type": "code",
      "metadata": {
        "id": "0A8P46X2ZkCy"
      },
      "source": [
        "# Make your guess parameters \n",
        "\n",
        "# Guess a\n",
        "a = np.max(pos_window) - (np.max(pos_window) + np.min(pos_window)) / 2\n",
        "# guess omega\n",
        "period = (time_window[-1] - time_window[0]) / 3\n",
        "omega = 2 * np.pi / period\n",
        "offset = (np.max(pos_window) + np.min(pos_window)) / 2\n",
        "phi = 0\n",
        "\n"
      ],
      "execution_count": null,
      "outputs": []
    },
    {
      "cell_type": "code",
      "source": [
        "# Guess plot vs real plot\n",
        "guess_params = [a, omega, offset, phi]\n",
        "plt.plot(time_window, pos_window, label='Cycles of Harmonic Oscillation') \n",
        "plt.plot(time_window, sin_fit_fun(guess_params, time_window), label='Best-fit Sine Curve')\n",
        "plt.xlabel('Elapsed Time (s)')\n",
        "plt.ylabel('Distance (m)')\n",
        "plt.title('Distance vs Elapsed Time')\n",
        "plt.legend()"
      ],
      "metadata": {
        "id": "QSiDXtpSEaAe"
      },
      "execution_count": null,
      "outputs": []
    },
    {
      "cell_type": "code",
      "metadata": {
        "id": "XWiKckggag7G"
      },
      "source": [
        "# Perform least squares\n",
        "res_lsq = least_squares(get_residuals, guess_params, \n",
        "args=(pos_window,time_window))\n",
        "\n",
        "# We store the values of best possible paremeters obtained for amplitude, omega, offset and phase in best_parameters\n",
        "best_params = res_lsq['x']\n",
        "\n"
      ],
      "execution_count": null,
      "outputs": []
    },
    {
      "cell_type": "code",
      "metadata": {
        "id": "WkN-twwAanMp"
      },
      "source": [
        "# Print out best parameters\n",
        "print(f\"\"\"\n",
        "Best amplitude: {best_params[0]}\n",
        "Best omega: {best_params[1]}\n",
        "Best offset: {best_params[2]}\n",
        "Best phi: {best_params[3]}\n",
        "\"\"\")\n",
        "\n"
      ],
      "execution_count": null,
      "outputs": []
    },
    {
      "cell_type": "code",
      "metadata": {
        "id": "dkptrEwqatLT"
      },
      "source": [
        "# Plot the data\n",
        "plt.plot(time_window, pos_window, label='Position Data')\n",
        "\n",
        "# Plot the fit\n",
        "fitted_func = sin_fit_fun(best_params, time_window)\n",
        "plt.plot(time_window, fitted_func, label='Best-fit Sine Curve for Position')\n",
        "\n",
        "\n",
        "\n",
        "# Legend\n",
        "plt.legend()\n",
        "# axis labels\n",
        "plt.xlabel('Elapsed Time (s)')\n",
        "plt.ylabel('Distance (m)')\n",
        "#title\n",
        "plt.title('Distance vs Elasped Time')\n",
        "\n"
      ],
      "execution_count": null,
      "outputs": []
    },
    {
      "cell_type": "code",
      "source": [
        "calculated_omega = np.sqrt(k/m) #FIXME:\n",
        "print(f\"\"\"\n",
        "Best-fit omega: {best_params[1]}\n",
        "Calculated omega: {calculated_omega}       \n",
        " \"\"\")"
      ],
      "metadata": {
        "id": "8z_WmEPcEpkn"
      },
      "execution_count": null,
      "outputs": []
    },
    {
      "cell_type": "code",
      "source": [
        "x_analog = arr[:,2]\n",
        "\n",
        "# Calibration\n",
        "xdata = np.loadtxt('#FIXME', delimiter=',')\n",
        "zdata = np.loadtxt('#FIXME', delimiter=',')\n",
        "\n",
        "zaxis_xmean = np.mean(zdata[:,2])\n",
        "xaxis_xmean = np.mean(xdata[:,2])\n",
        "\n",
        "\"\"\"\n",
        "Returns (slope, intercept)\n",
        "(x1,y1) = (analog value for zero accel from other axis, acceleration = 0 m/s²)\n",
        "(x2,y2) = (analog value for -1g reading, acceleration for gravity = -9.81 m/s²)\n",
        "\n",
        "\"\"\"\n",
        "def calibration_curve(x1,y1,x2,y2):\n",
        "    slope = (y2-y1)/(x2-x1)\n",
        "    intercept = y1 - slope * x1\n",
        "    return (slope, intercept)\n",
        "\n",
        "x = [zaxis_xmean, xaxis_xmean]\n",
        "y = [0, -9.81]\n",
        "slope, intercept = calibration_curve(zaxis_xmean, 0, xaxis_xmean, -9.81)\n",
        "accel = x_analog * slope + intercept\n",
        "relative_accel = accel + 9.8\n",
        "relative_accel_window = relative_accel[start_ind:end_ind]"
      ],
      "metadata": {
        "id": "x7mngndzEzk3"
      },
      "execution_count": null,
      "outputs": []
    },
    {
      "cell_type": "code",
      "source": [
        "res_lsq_accel = least_squares(get_residuals, guess_params, args=(relative_accel_window, time_window))\n",
        "best_params_accel = res_lsq_accel['x']\n",
        "fitted_func_accel = sin_fit_fun(best_params_accel, time_window)"
      ],
      "metadata": {
        "id": "EgjbEkapE3lD"
      },
      "execution_count": null,
      "outputs": []
    },
    {
      "cell_type": "code",
      "source": [
        "# The differentiation can be done by hand and then typed into code\n",
        "# vel_fit is the velocity as a function of time\n",
        "vel_fit = best_params[0]*best_params[1]*np.cos(best_params[1]*time_window+best_params[3])\n",
        "\n",
        "# acc_fit is the acceleration as a function of time\n",
        "acc_fit = best_params[0]*(best_params[1]**2)*np.sin(best_params[1]*time_window+best_params[3]) #"
      ],
      "metadata": {
        "id": "5Ps6dVv5E5sD"
      },
      "execution_count": null,
      "outputs": []
    },
    {
      "cell_type": "code",
      "source": [
        "plt.plot(time_window, relative_accel_window, label='Acceleration Data')\n",
        "plt.plot(time_window, fitted_func_accel, label='Best-fit Sine Curve for Acceleration')\n",
        "plt.plot(time_window, acc_fit, label='Double Derivative of Position Function from Best Params for Pos Fitting')\n",
        "plt.xlabel('Elapsed Time (s)')\n",
        "plt.ylabel('Relative Acceleration (m/s^2)')\n",
        "plt.title('Relative Acceleration vs Elapsed Time')\n",
        "plt.legend()"
      ],
      "metadata": {
        "id": "8718VdnWFDCR"
      },
      "execution_count": null,
      "outputs": []
    }
  ]
}