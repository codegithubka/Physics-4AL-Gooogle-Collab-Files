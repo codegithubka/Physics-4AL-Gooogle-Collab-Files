{
  "nbformat": 4,
  "nbformat_minor": 0,
  "metadata": {
    "colab": {
      "name": "Αντίγραφο Speed_of_sound.ipynb",
      "provenance": [],
      "collapsed_sections": [],
      "include_colab_link": true
    },
    "kernelspec": {
      "name": "python3",
      "display_name": "Python 3"
    }
  },
  "cells": [
    {
      "cell_type": "markdown",
      "metadata": {
        "id": "view-in-github",
        "colab_type": "text"
      },
      "source": [
        "<a href=\"https://colab.research.google.com/github/codegithubka/First-Project/blob/main/%CE%91%CE%BD%CF%84%CE%AF%CE%B3%CF%81%CE%B1%CF%86%CE%BF_Speed_of_sound.ipynb\" target=\"_parent\"><img src=\"https://colab.research.google.com/assets/colab-badge.svg\" alt=\"Open In Colab\"/></a>"
      ]
    },
    {
      "cell_type": "markdown",
      "metadata": {
        "id": "gav2hXJTrxaF"
      },
      "source": [
        "# Error bars (example)"
      ]
    },
    {
      "cell_type": "markdown",
      "metadata": {
        "id": "NAJnktTFnfQl"
      },
      "source": [
        "In any scientific plot, it is important to not only show the data points but to also show error bars, which indicate how uncertain we are about any particular data point. Some sources of error will result from uncertainties of our measurement tools, and some come from variation in the measurements that go into our data. Below is an example of some x points, y points, and the associated error estimates of each quantity. The x axis are various times, and the y axis is the velocity of a falling object that starts at a velocity of 0. We would expect the falling object's velocity to be 9.8 times whatever the time since dropping is, as shown in the red line. However, our data points, shown in blue do not seem to represent the model very well. "
      ]
    },
    {
      "cell_type": "code",
      "metadata": {
        "id": "UeXjCP6jnc-n",
        "colab": {
          "base_uri": "https://localhost:8080/",
          "height": 297
        },
        "outputId": "ee152f31-18aa-42fd-9795-04b9447caa4e"
      },
      "source": [
        "import numpy as np\n",
        "import matplotlib.pyplot as plt\n",
        "\n",
        "time_s = np.array([1.0, 2.0, 3.0, 4.0])\n",
        "velocity_ms_model = time_s * 9.8 \n",
        "velocity_ms = np.array([12.0, 13.0, 35.0, 48.0])\n",
        "plt.plot(time_s, velocity_ms_model, color = 'red', label = 'Model')\n",
        "plt.scatter(time_s, velocity_ms, label = 'Data')\n",
        "plt.legend()\n",
        "plt.xlabel('Time(s)')\n",
        "plt.ylabel('Velocity (m/s)')"
      ],
      "execution_count": 2,
      "outputs": [
        {
          "output_type": "execute_result",
          "data": {
            "text/plain": [
              "Text(0, 0.5, 'Velocity (m/s)')"
            ]
          },
          "metadata": {},
          "execution_count": 2
        },
        {
          "output_type": "display_data",
          "data": {
            "text/plain": [
              "<Figure size 432x288 with 1 Axes>"
            ],
            "image/png": "[encoded data removed]"
          },
          "metadata": {
            "needs_background": "light"
          }
        }
      ]
    },
    {
      "cell_type": "markdown",
      "metadata": {
        "id": "XomYHMMkp-Fd"
      },
      "source": [
        "When we introduce the error bars for the measurements, we can see that the data points do match up with the model, but the measurements have a high level of noise. We plot the error bars using the `plt.errorbar` function which takes the keyword arguments of the error of the x values and the error of the y values.\n",
        "\n",
        "In the example below, the time measurement error is fixed at 0.1 seconds but the error in velocity estimation is different for each time step.\n",
        "\n",
        "Plt.errorbar documentation can be found here : https://matplotlib.org/3.3.3/api/_as_gen/matplotlib.pyplot.errorbar.html"
      ]
    },
    {
      "cell_type": "code",
      "metadata": {
        "id": "sQuIbLExpwfD",
        "colab": {
          "base_uri": "https://localhost:8080/",
          "height": 297
        },
        "outputId": "8d354c57-4467-4547-db08-42af439fd9f9"
      },
      "source": [
        "# Create arrays to store the errors \n",
        "time_s_error = np.array([0.1, 0.1, 0.1, 0.1])\n",
        "velocity_ms_error = np.array([3.0, 9.0, 8.0, 15.0])\n",
        "\n",
        "# Use plt.errorbar to plot values along with error bars\n",
        "# plt.errorbar documentation can be found here : https://matplotlib.org/3.3.3/api/_as_gen/matplotlib.pyplot.errorbar.html\n",
        "# Use fmt = 'o' to remove line connecting the data points and having it appear as a scatter plot\n",
        "plt.errorbar(time_s, velocity_ms, xerr = time_s_error, yerr = velocity_ms_error, label = 'Data', fmt='o')\n",
        "\n",
        "plt.plot(time_s, velocity_ms_model, color = 'red', label = 'Model')\n",
        "\n",
        "plt.legend()\n",
        "plt.xlabel('Time(s)')\n",
        "plt.ylabel('Velocity (m/s)')"
      ],
      "execution_count": 3,
      "outputs": [
        {
          "output_type": "execute_result",
          "data": {
            "text/plain": [
              "Text(0, 0.5, 'Velocity (m/s)')"
            ]
          },
          "metadata": {},
          "execution_count": 3
        },
        {
          "output_type": "display_data",
          "data": {
            "text/plain": [
              "<Figure size 432x288 with 1 Axes>"
            ],
            "image/png": "[encoded data removed]"
          },
          "metadata": {
            "needs_background": "light"
          }
        }
      ]
    },
    {
      "cell_type": "markdown",
      "metadata": {
        "id": "jof9naVvrzek"
      },
      "source": [
        "# Speed of sound"
      ]
    },
    {
      "cell_type": "markdown",
      "metadata": {
        "id": "R70ZBR46sL2Z"
      },
      "source": [
        "Upload all your files to your Google drive. Mount Google drive."
      ]
    },
    {
      "cell_type": "code",
      "source": [
        "# Run this cell to mount your Google Drive.\n",
        "from google.colab import drive\n",
        "drive.mount('/content/gdrive')"
      ],
      "metadata": {
        "id": "zwg04tWn24nC",
        "colab": {
          "base_uri": "https://localhost:8080/"
        },
        "outputId": "0d303caa-4e0c-44ac-c3b2-a88d2432baad"
      },
      "execution_count": 4,
      "outputs": [
        {
          "output_type": "stream",
          "name": "stdout",
          "text": [
            "Mounted at /content/gdrive\n"
          ]
        }
      ]
    },
    {
      "cell_type": "markdown",
      "source": [
        "Import numpy and matplotlib.pyplot"
      ],
      "metadata": {
        "id": "k9NNNZk847QC"
      }
    },
    {
      "cell_type": "code",
      "source": [
        "#import numpy as np\n",
        "import numpy as np\n",
        "#import matplotlib.pyplot as plt\n",
        "import matplotlib.pyplot as plt"
      ],
      "metadata": {
        "id": "FqAK5JuK47Y8"
      },
      "execution_count": 5,
      "outputs": []
    },
    {
      "cell_type": "markdown",
      "source": [
        "Make an array of all of the distances **in meters** that correspond with each of your time data files"
      ],
      "metadata": {
        "id": "OAd2Q3iy24uP"
      }
    },
    {
      "cell_type": "code",
      "metadata": {
        "id": "UpNoNLQEsi1G"
      },
      "source": [
        "#distance = np.array([d1, d2, d3, d4, d5])\n",
        "distance = np.array([0.2, 0.4, 0.6, 0.8, 0.9])"
      ],
      "execution_count": 6,
      "outputs": []
    },
    {
      "cell_type": "markdown",
      "metadata": {
        "id": "MYB0wzSxso9n"
      },
      "source": [
        "Define a error distance array that contains the estimated error (uncertainty) in your measurements. How presicely can you measure distances using your ruler or distance app?\n",
        "\n",
        "Hint: How close are the smallest markings on your ruler? Do you feel confident in making a measurement more precise than beyond half the distance between those markings? Also, if you used the same ruler for different data sets, they will have the same uncertainty!"
      ]
    },
    {
      "cell_type": "code",
      "metadata": {
        "id": "GS9prgbVs16x"
      },
      "source": [
        "#distance_error = np.array([d_err1, d_err2, d_err3, d_err4, d_err5])\n",
        "distance_error = np.array([0.05, 0.05, 0.05, 0.05, 0.05])\n"
      ],
      "execution_count": 7,
      "outputs": []
    },
    {
      "cell_type": "markdown",
      "metadata": {
        "id": "VoZBK3dYr13-"
      },
      "source": [
        "Read in all the data sets. Since the arrays have only one column they are 1D arrays. The values in the arrays are time in microseconds, we will convert them to seconds by dividing them by 1000000."
      ]
    },
    {
      "cell_type": "code",
      "metadata": {
        "id": "uS6HUAMJro8X"
      },
      "source": [
        "#read_in_array1 = np.loadtxt('yourdatahere1.txt')\n",
        "#time_of_flight1 = read_in_array1/1000000\n",
        "read_in_array1 = np.loadtxt('/content/gdrive/MyDrive/firstData.txt') \n",
        "time_of_flight1 = read_in_array1/1000000\n",
        "\n",
        "\n",
        "#read_in_array2 = np.loadtxt('yourdatahere2.txt')\n",
        "#time_of_flight2 = read_in_array2/1000000\n",
        "read_in_array2 = np.loadtxt('/content/gdrive/MyDrive/secondData.txt')\n",
        "time_of_flight2 = read_in_array2/1000000\n",
        "\n",
        "\n",
        "read_in_array3 = np.loadtxt('/content/gdrive/MyDrive/thirdData.txt')\n",
        "time_of_flight3 = read_in_array3/1000000 \n",
        "\n",
        "\n",
        "read_in_array4 = np.loadtxt('/content/gdrive/MyDrive/fourthData.txt')\n",
        "time_of_flight4 = read_in_array4/1000000 \n",
        "\n",
        "\n",
        "read_in_array5 = np.loadtxt('/content/gdrive/MyDrive/fifthData.txt')\n",
        "time_of_flight5 = read_in_array5/1000000 \n",
        "\n"
      ],
      "execution_count": 9,
      "outputs": []
    },
    {
      "cell_type": "code",
      "source": [
        "from google.colab import drive\n",
        "drive.mount('/content/drive')"
      ],
      "metadata": {
        "id": "rfbe2y1zHPIb",
        "colab": {
          "base_uri": "https://localhost:8080/"
        },
        "outputId": "c7d71df3-6adb-46f2-a090-aa91a2f1ca8a"
      },
      "execution_count": 10,
      "outputs": [
        {
          "output_type": "stream",
          "name": "stdout",
          "text": [
            "Mounted at /content/drive\n"
          ]
        }
      ]
    },
    {
      "cell_type": "markdown",
      "metadata": {
        "id": "kLziW1RetB-K"
      },
      "source": [
        "Find the mean and standard deviation of each dataset. You can use np.mean() and np.std().\n",
        "\n",
        "Note - The \"tof\" in the variable names stand for \"time of flight\""
      ]
    },
    {
      "cell_type": "code",
      "metadata": {
        "id": "YzyM5nMZsdsg"
      },
      "source": [
        "tof_mean1=np.mean(time_of_flight1)\n",
        "tof_err1=np.std(time_of_flight1)\n",
        "\n",
        "tof_mean2=np.mean(time_of_flight2)\n",
        "tof_err2=np.std(time_of_flight2)\n",
        "\n",
        "tof_mean3=np.mean(time_of_flight3)\n",
        "tof_err3=np.std(time_of_flight3)\n",
        "\n",
        "tof_mean4=np.mean(time_of_flight4)\n",
        "tof_err4=np.std(time_of_flight4)\n",
        "\n",
        "tof_mean5=np.mean(time_of_flight5)\n",
        "tof_err5=np.std(time_of_flight5)\n",
        "\n",
        "\n",
        "#Repeat the above for the other 4 arrays\n",
        "\n",
        "\n",
        "\n",
        "\n",
        "\n",
        "\n",
        "\n"
      ],
      "execution_count": 11,
      "outputs": []
    },
    {
      "cell_type": "markdown",
      "source": [
        "Create new arrays for the 5 mean values and standard deviation (error) values."
      ],
      "metadata": {
        "id": "lNss-XCi9hJY"
      }
    },
    {
      "cell_type": "code",
      "source": [
        "#tof_means = np.array([tof_mean1, tof_mean2, ....])\n",
        "#tof_errs = np.array([tof_err1, tof_err2, ....])\n",
        "tof_means = np.array([tof_mean1, tof_mean2, tof_mean3, tof_mean4, tof_mean5])\n",
        "tof_errs = np.array([tof_err1, tof_err2, tof_err3, tof_err4, tof_err5])\n",
        "\n"
      ],
      "metadata": {
        "id": "sLoER3OB9hXr"
      },
      "execution_count": 12,
      "outputs": []
    },
    {
      "cell_type": "markdown",
      "metadata": {
        "id": "kr58tiQYtTCy"
      },
      "source": [
        "Plot an error bar plot of your values"
      ]
    },
    {
      "cell_type": "code",
      "metadata": {
        "id": "huvwEroxth17",
        "colab": {
          "base_uri": "https://localhost:8080/",
          "height": 283
        },
        "outputId": "df578401-a27d-48a7-e248-c73b1cdb1a0c"
      },
      "source": [
        "# plt.errorbar(distance, tof_means, xerr = distance_error, yerr = tof_errs, fmt='o')\n",
        "plt.errorbar(distance, tof_means, xerr = distance_error, yerr = tof_errs,fmt = 'o' )\n",
        "\n"
      ],
      "execution_count": 13,
      "outputs": [
        {
          "output_type": "execute_result",
          "data": {
            "text/plain": [
              "<ErrorbarContainer object of 3 artists>"
            ]
          },
          "metadata": {},
          "execution_count": 13
        },
        {
          "output_type": "display_data",
          "data": {
            "text/plain": [
              "<Figure size 432x288 with 1 Axes>"
            ],
            "image/png": "[encoded data removed]"
          },
          "metadata": {
            "needs_background": "light"
          }
        }
      ]
    },
    {
      "cell_type": "markdown",
      "metadata": {
        "id": "XY3SQJZXtshk"
      },
      "source": [
        "Fit a polynomial using np.polyfit() to the distances and the mean values of time of flight and print out the slope and intercept.\n",
        "\n",
        " What are the units of the intercept and the slope? "
      ]
    },
    {
      "cell_type": "code",
      "metadata": {
        "id": "QKUnF9OALnSh",
        "colab": {
          "base_uri": "https://localhost:8080/"
        },
        "outputId": "86777e00-539a-4fbe-effa-f162e32180fb"
      },
      "source": [
        "#Apply polyfit to find the slope and intercept\n",
        "#coeff_linear = np.polyfit(distance, tof_means, ?)\n",
        "coeff_linear = np.polyfit(distance, tof_means, 1)\n",
        "\n",
        "\n",
        "#slope=coeff_linear[?]\n",
        "slope = coeff_linear[0]\n",
        "#Print the slope with the units\n",
        "print(\"Slope is \"+str(slope)+\" s/m\")\n",
        "\n",
        "\n",
        "intercept= 0\n",
        "#Print the intercept with the units\n",
        "print(\"Intercept is \" + str(intercept)+ \"m\")\n",
        "\n"
      ],
      "execution_count": 14,
      "outputs": [
        {
          "output_type": "stream",
          "name": "stdout",
          "text": [
            "Slope is 0.0030803573170731704 s/m\n",
            "Intercept is 0m\n"
          ]
        }
      ]
    },
    {
      "cell_type": "markdown",
      "metadata": {
        "id": "zZpMGqfrLnep"
      },
      "source": [
        "Plot your errorbar plot again, with your best fit model plotted along with it. Add x-axis, y-axis labels, title and legend.\n"
      ]
    },
    {
      "cell_type": "code",
      "metadata": {
        "id": "tQKOvZjcfM4c",
        "colab": {
          "base_uri": "https://localhost:8080/",
          "height": 313
        },
        "outputId": "3caeaf12-29c9-4cb0-b3e7-848434f50541"
      },
      "source": [
        "#Re-create the error bar plot using the plt.errorbar() statement from the previous cell\n",
        "plt.errorbar(distance, tof_means, xerr = distance_error, yerr = tof_errs, label = 'Data', fmt = 'o' )\n",
        "\n",
        "#plt.plot(distance,best_fit_line,....)\n",
        "plt.plot(distance, slope*distance + intercept, color = 'red', label = 'Model')\n",
        "\n",
        "\n",
        "# Add xlabel - plt.xlabel(\" \")\n",
        "plt.xlabel(\"distance\")\n",
        "\n",
        "# Add ylabel - plt.ylabel(\"\")\n",
        "plt.ylabel(\"time\")\n",
        "\n",
        "# Add labels to both your error bar plot and the best fit line plot\n",
        "\n",
        "# Add title - plt.title(\" \")\n",
        "\n",
        "plt.title(\"Speed of sound\")\n",
        "# Add legend - plt.legend()\n",
        "plt.legend()\n",
        "\n"
      ],
      "execution_count": 18,
      "outputs": [
        {
          "output_type": "execute_result",
          "data": {
            "text/plain": [
              "<matplotlib.legend.Legend at 0x7f3356872d90>"
            ]
          },
          "metadata": {},
          "execution_count": 18
        },
        {
          "output_type": "display_data",
          "data": {
            "text/plain": [
              "<Figure size 432x288 with 1 Axes>"
            ],
            "image/png": "[encoded data removed]"
          },
          "metadata": {
            "needs_background": "light"
          }
        }
      ]
    },
    {
      "cell_type": "markdown",
      "source": [
        "Extract the speed of sound from the slope. Print the speed of sound with the units."
      ],
      "metadata": {
        "id": "ghSddqtRBL9l"
      }
    },
    {
      "cell_type": "code",
      "source": [
        "speed = 1/slope\n",
        "print(\"Speed of sound \" + str(speed) + \"m/s\")"
      ],
      "metadata": {
        "id": "Lt2ifyt_BMR5",
        "colab": {
          "base_uri": "https://localhost:8080/"
        },
        "outputId": "90af5130-6259-48f9-e7fb-a9bbd5c71035"
      },
      "execution_count": 20,
      "outputs": [
        {
          "output_type": "stream",
          "name": "stdout",
          "text": [
            "Speed of sound 324.6376627988597m/s\n"
          ]
        }
      ]
    }
  ]
}